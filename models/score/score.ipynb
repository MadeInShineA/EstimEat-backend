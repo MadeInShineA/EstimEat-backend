{
 "cells": [
  {
   "cell_type": "code",
   "execution_count": null,
   "id": "0b288fa5",
   "metadata": {},
   "outputs": [
    {
     "name": "stdout",
     "output_type": "stream",
     "text": [
      "✅ Fichier normalisé enregistré : restau_trend_score_norma.csv\n",
      "✅ Fichier normalisé enregistré : third_sector_establishment_score_by_locality_norma.csv\n",
      "✅ Fichier normalisé enregistré : third_sector_job_score_by_locality_norma.csv\n",
      "✅ Fichier normalisé enregistré : demo_trend_score_norma.csv\n"
     ]
    }
   ],
   "source": [
    "import pandas as pd\n",
    "from pathlib import Path\n",
    "import numpy as np\n",
    "\n",
    "input_dir = Path(\"res\")\n",
    "input_dir.mkdir(exist_ok=True)\n",
    "\n",
    "csv_files = list(input_dir.glob(\"*.csv\"))\n",
    "\n",
    "if not csv_files:\n",
    "    print(\"Aucun fichier CSV trouvé dans le dossier 'res'.\")\n",
    "else:\n",
    "    for csv_path in csv_files:\n",
    "        try:\n",
    "            df = pd.read_csv(csv_path)\n",
    "\n",
    "            # Vérifs basiques\n",
    "            if \"locality\" not in df.columns or \"trend_score\" not in df.columns:\n",
    "                print(f\"⚠️ {csv_path.name} doit contenir les colonnes 'locality' et 'trend_score'. Ignoré.\")\n",
    "                continue\n",
    "\n",
    "            # Forcer numérique (si jamais il y a des strings), conserver NaN pour éviter plantage\n",
    "            df[\"trend_score\"] = pd.to_numeric(df[\"trend_score\"], errors=\"coerce\")\n",
    "\n",
    "            # Séparer par signe\n",
    "            pos_mask = df[\"trend_score\"] > 0\n",
    "            neg_mask = df[\"trend_score\"] < 0\n",
    "            zero_mask = df[\"trend_score\"] == 0\n",
    "\n",
    "            # Max positif et min négatif (le plus petit, donc le plus négatif)\n",
    "            max_pos = df.loc[pos_mask, \"trend_score\"].max() if pos_mask.any() else None\n",
    "            min_neg = df.loc[neg_mask, \"trend_score\"].min() if neg_mask.any() else None  # ex: -18.16\n",
    "\n",
    "            # Créer une copie pour travailler proprement\n",
    "            ts = df[\"trend_score\"].copy()\n",
    "\n",
    "            # Positifs → [0, 10] (si au moins un positif et max_pos != 0)\n",
    "            if max_pos is not None and max_pos != 0:\n",
    "                ts.loc[pos_mask] = 10 * df.loc[pos_mask, \"trend_score\"] / max_pos\n",
    "\n",
    "            # Négatifs → [-10, 0] (si au moins un négatif et min_neg != 0)\n",
    "            if min_neg is not None and min_neg != 0:\n",
    "                # min_neg est négatif, on obtient bien -10 au min, proche de 0 pour faibles valeurs\n",
    "                ts.loc[neg_mask] = -10 * df.loc[neg_mask, \"trend_score\"] / min_neg\n",
    "\n",
    "            # Zéros inchangés\n",
    "            ts.loc[zero_mask] = 0\n",
    "\n",
    "            # Si un côté n’existe pas (ex. que des positifs), on laisse l’autre côté tel quel.\n",
    "            # Cas limites: si max_pos==0 (tous 0) ou min_neg==0 (n’arrive pas logiquement), tout reste 0.\n",
    "\n",
    "            # Remplacer la colonne trend_score par la version normalisée\n",
    "            df[\"trend_score\"] = ts\n",
    "\n",
    "            # Ne garder que les deux colonnes demandées et dans le bon ordre\n",
    "            df_out = df[[\"locality\", \"trend_score\"]]\n",
    "\n",
    "            # Enregistrement\n",
    "            output_path = csv_path.with_name(csv_path.stem + \"_norma.csv\")\n",
    "            df_out.to_csv(output_path, index=False)\n",
    "            print(f\"✅ Normalisé (signe préservé) → {output_path.name}\")\n",
    "\n",
    "        except Exception as e:\n",
    "            print(f\"❌ Erreur avec {csv_path.name} : {e}\")\n"
   ]
  }
 ],
 "metadata": {
  "kernelspec": {
   "display_name": "estimeat-backend",
   "language": "python",
   "name": "python3"
  },
  "language_info": {
   "codemirror_mode": {
    "name": "ipython",
    "version": 3
   },
   "file_extension": ".py",
   "mimetype": "text/x-python",
   "name": "python",
   "nbconvert_exporter": "python",
   "pygments_lexer": "ipython3",
   "version": "3.13.7"
  }
 },
 "nbformat": 4,
 "nbformat_minor": 5
}
