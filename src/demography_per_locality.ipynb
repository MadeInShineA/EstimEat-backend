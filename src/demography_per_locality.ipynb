{
 "cells": [
  {
   "cell_type": "markdown",
   "id": "cfea251f",
   "metadata": {},
   "source": [
    "# Démographie par localité\n",
    "population total, croissance de la population, age median"
   ]
  },
  {
   "cell_type": "code",
   "execution_count": 65,
   "id": "135fb95d",
   "metadata": {},
   "outputs": [],
   "source": [
    "import polars as pl\n",
    "import openpyxl\n",
    "import pandas as pd\n",
    "from pathlib import Path"
   ]
  },
  {
   "cell_type": "markdown",
   "id": "1859ace2",
   "metadata": {},
   "source": [
    "# Premièr analyse avec suisse permanent"
   ]
  },
  {
   "cell_type": "code",
   "execution_count": null,
   "id": "a4f4e79f",
   "metadata": {},
   "outputs": [],
   "source": [
    "# read file function\n",
    "def lire_fichier_ofs_complet(fichier_path, sheet_name=None):\n",
    "    \"\"\"\n",
    "    Lit un fichier Excel OFS et extrait toutes les données avec propagation de l'année.\n",
    "    \"\"\"\n",
    "    wb = openpyxl.load_workbook(fichier_path, data_only=True)\n",
    "    \n",
    "    # Select sheet\n",
    "    if sheet_name:\n",
    "        ws = wb[sheet_name]\n",
    "    else:\n",
    "        ws = wb.active\n",
    "    \n",
    "    headers_row = list(ws.iter_rows(min_row=3, max_row=3, values_only=True))[0]\n",
    "    colonnes_age = [h for h in headers_row[8:] if h]  # À partir de la colonne 9\n",
    "    \n",
    "    data = []\n",
    "    annee_courante = None\n",
    "    \n",
    "    for row in ws.iter_rows(min_row=4, values_only=True):\n",
    "\n",
    "        if row[0] and isinstance(row[0], str) and len(row[0]) == 4 and row[0].isdigit():\n",
    "            annee_courante = row[0]\n",
    "        \n",
    "        if annee_courante and row[3]:\n",
    "            ligne_data = {\n",
    "                'annee': annee_courante,\n",
    "                'commune': row[3]\n",
    "            }\n",
    "            \n",
    "            for i, col_name in enumerate(colonnes_age):\n",
    "                ligne_data[col_name] = row[8 + i] if (8 + i) < len(row) else None\n",
    "            \n",
    "            data.append(ligne_data)\n",
    "    \n",
    "    # Create polars dataframe\n",
    "    df = pl.DataFrame(data)\n",
    "    \n",
    "    return df"
   ]
  },
  {
   "cell_type": "code",
   "execution_count": 67,
   "id": "a0c1870c",
   "metadata": {},
   "outputs": [
    {
     "name": "stdout",
     "output_type": "stream",
     "text": [
      "Dimensions : (25278, 99)\n",
      "Colonnes : ['annee', 'commune', 'Âge - total', '0 an', '1 an', '2 ans', '3 ans', '4 ans', '5 ans', '6 ans', '7 ans', '8 ans', '9 ans', '10 ans', '11 ans', '12 ans', '13 ans', '14 ans', '15 ans', '16 ans', '17 ans', '18 ans', '19 ans', '20 ans', '21 ans', '22 ans', '23 ans', '24 ans', '25 ans', '26 ans', '27 ans', '28 ans', '29 ans', '30 ans', '31 ans', '32 ans', '33 ans', '34 ans', '35 ans', '36 ans', '37 ans', '38 ans', '39 ans', '40 ans', '41 ans', '42 ans', '43 ans', '44 ans', '45 ans', '46 ans', '47 ans', '48 ans', '49 ans', '50 ans', '51 ans', '52 ans', '53 ans', '54 ans', '55 ans', '56 ans', '57 ans', '58 ans', '59 ans', '60 ans', '61 ans', '62 ans', '63 ans', '64 ans', '65 ans', '66 ans', '67 ans', '68 ans', '69 ans', '70 ans', '71 ans', '72 ans', '73 ans', '74 ans', '75 ans', '76 ans', '77 ans', '78 ans', '79 ans', '80 ans', '81 ans', '82 ans', '83 ans', '84 ans', '85 ans', '86 ans', '87 ans', '88 ans', '89 ans', '90 ans', '91 ans', '92 ans', '93 ans', '94 ans', '95 ans']\n",
      "Années disponibles : ['2014', '2015', '2016', '2017', '2018', '2019', '2020', '2021', '2022', '2023', '2024']\n"
     ]
    },
    {
     "data": {
      "text/html": [
       "<div><style>\n",
       ".dataframe > thead > tr,\n",
       ".dataframe > tbody > tr {\n",
       "  text-align: right;\n",
       "  white-space: pre-wrap;\n",
       "}\n",
       "</style>\n",
       "<small>shape: (10, 99)</small><table border=\"1\" class=\"dataframe\"><thead><tr><th>annee</th><th>commune</th><th>Âge - total</th><th>0 an</th><th>1 an</th><th>2 ans</th><th>3 ans</th><th>4 ans</th><th>5 ans</th><th>6 ans</th><th>7 ans</th><th>8 ans</th><th>9 ans</th><th>10 ans</th><th>11 ans</th><th>12 ans</th><th>13 ans</th><th>14 ans</th><th>15 ans</th><th>16 ans</th><th>17 ans</th><th>18 ans</th><th>19 ans</th><th>20 ans</th><th>21 ans</th><th>22 ans</th><th>23 ans</th><th>24 ans</th><th>25 ans</th><th>26 ans</th><th>27 ans</th><th>28 ans</th><th>29 ans</th><th>30 ans</th><th>31 ans</th><th>32 ans</th><th>33 ans</th><th>&hellip;</th><th>59 ans</th><th>60 ans</th><th>61 ans</th><th>62 ans</th><th>63 ans</th><th>64 ans</th><th>65 ans</th><th>66 ans</th><th>67 ans</th><th>68 ans</th><th>69 ans</th><th>70 ans</th><th>71 ans</th><th>72 ans</th><th>73 ans</th><th>74 ans</th><th>75 ans</th><th>76 ans</th><th>77 ans</th><th>78 ans</th><th>79 ans</th><th>80 ans</th><th>81 ans</th><th>82 ans</th><th>83 ans</th><th>84 ans</th><th>85 ans</th><th>86 ans</th><th>87 ans</th><th>88 ans</th><th>89 ans</th><th>90 ans</th><th>91 ans</th><th>92 ans</th><th>93 ans</th><th>94 ans</th><th>95 ans</th></tr><tr><td>str</td><td>str</td><td>i64</td><td>i64</td><td>i64</td><td>i64</td><td>i64</td><td>i64</td><td>i64</td><td>i64</td><td>i64</td><td>i64</td><td>i64</td><td>i64</td><td>i64</td><td>i64</td><td>i64</td><td>i64</td><td>i64</td><td>i64</td><td>i64</td><td>i64</td><td>i64</td><td>i64</td><td>i64</td><td>i64</td><td>i64</td><td>i64</td><td>i64</td><td>i64</td><td>i64</td><td>i64</td><td>i64</td><td>i64</td><td>i64</td><td>i64</td><td>i64</td><td>&hellip;</td><td>i64</td><td>i64</td><td>i64</td><td>i64</td><td>i64</td><td>i64</td><td>i64</td><td>i64</td><td>i64</td><td>i64</td><td>i64</td><td>i64</td><td>i64</td><td>i64</td><td>i64</td><td>i64</td><td>i64</td><td>i64</td><td>i64</td><td>i64</td><td>i64</td><td>i64</td><td>i64</td><td>i64</td><td>i64</td><td>i64</td><td>i64</td><td>i64</td><td>i64</td><td>i64</td><td>i64</td><td>i64</td><td>i64</td><td>i64</td><td>i64</td><td>i64</td><td>i64</td></tr></thead><tbody><tr><td>&quot;2014&quot;</td><td>&quot;......0001 Aeugst am Albis&quot;</td><td>1699</td><td>20</td><td>20</td><td>18</td><td>17</td><td>11</td><td>17</td><td>19</td><td>21</td><td>17</td><td>12</td><td>14</td><td>17</td><td>25</td><td>18</td><td>23</td><td>18</td><td>16</td><td>24</td><td>27</td><td>15</td><td>23</td><td>19</td><td>17</td><td>21</td><td>12</td><td>12</td><td>13</td><td>9</td><td>13</td><td>11</td><td>7</td><td>11</td><td>15</td><td>12</td><td>&hellip;</td><td>26</td><td>18</td><td>20</td><td>34</td><td>25</td><td>27</td><td>27</td><td>13</td><td>25</td><td>16</td><td>18</td><td>17</td><td>22</td><td>19</td><td>23</td><td>13</td><td>6</td><td>12</td><td>3</td><td>8</td><td>11</td><td>9</td><td>7</td><td>13</td><td>4</td><td>6</td><td>4</td><td>5</td><td>5</td><td>4</td><td>7</td><td>2</td><td>1</td><td>1</td><td>0</td><td>0</td><td>0</td></tr><tr><td>&quot;2014&quot;</td><td>&quot;......0002 Affoltern am Albis&quot;</td><td>8463</td><td>83</td><td>67</td><td>83</td><td>89</td><td>87</td><td>79</td><td>76</td><td>65</td><td>77</td><td>71</td><td>83</td><td>91</td><td>79</td><td>78</td><td>75</td><td>102</td><td>103</td><td>100</td><td>106</td><td>131</td><td>121</td><td>109</td><td>124</td><td>121</td><td>119</td><td>114</td><td>116</td><td>120</td><td>116</td><td>94</td><td>102</td><td>94</td><td>88</td><td>76</td><td>&hellip;</td><td>113</td><td>112</td><td>115</td><td>123</td><td>106</td><td>107</td><td>102</td><td>100</td><td>106</td><td>96</td><td>99</td><td>94</td><td>92</td><td>86</td><td>85</td><td>73</td><td>73</td><td>71</td><td>51</td><td>69</td><td>55</td><td>50</td><td>50</td><td>45</td><td>48</td><td>48</td><td>32</td><td>26</td><td>28</td><td>25</td><td>24</td><td>17</td><td>11</td><td>11</td><td>4</td><td>5</td><td>4</td></tr><tr><td>&quot;2014&quot;</td><td>&quot;......0003 Bonstetten&quot;</td><td>4541</td><td>62</td><td>45</td><td>60</td><td>54</td><td>54</td><td>69</td><td>70</td><td>61</td><td>60</td><td>60</td><td>54</td><td>47</td><td>60</td><td>65</td><td>53</td><td>61</td><td>46</td><td>40</td><td>54</td><td>70</td><td>39</td><td>39</td><td>53</td><td>37</td><td>46</td><td>33</td><td>35</td><td>39</td><td>44</td><td>42</td><td>50</td><td>54</td><td>51</td><td>55</td><td>&hellip;</td><td>63</td><td>46</td><td>62</td><td>47</td><td>66</td><td>60</td><td>52</td><td>57</td><td>54</td><td>50</td><td>48</td><td>45</td><td>49</td><td>36</td><td>31</td><td>36</td><td>34</td><td>22</td><td>19</td><td>26</td><td>20</td><td>20</td><td>13</td><td>7</td><td>7</td><td>19</td><td>5</td><td>14</td><td>5</td><td>10</td><td>6</td><td>4</td><td>2</td><td>3</td><td>1</td><td>0</td><td>1</td></tr><tr><td>&quot;2014&quot;</td><td>&quot;......0004 Hausen am Albis&quot;</td><td>2994</td><td>25</td><td>30</td><td>25</td><td>29</td><td>36</td><td>28</td><td>48</td><td>37</td><td>43</td><td>31</td><td>43</td><td>30</td><td>30</td><td>24</td><td>37</td><td>30</td><td>45</td><td>30</td><td>43</td><td>40</td><td>30</td><td>26</td><td>29</td><td>30</td><td>22</td><td>23</td><td>30</td><td>19</td><td>23</td><td>22</td><td>30</td><td>23</td><td>26</td><td>36</td><td>&hellip;</td><td>46</td><td>47</td><td>40</td><td>38</td><td>33</td><td>37</td><td>48</td><td>49</td><td>37</td><td>37</td><td>22</td><td>30</td><td>36</td><td>31</td><td>30</td><td>22</td><td>20</td><td>21</td><td>22</td><td>24</td><td>17</td><td>16</td><td>8</td><td>15</td><td>13</td><td>11</td><td>5</td><td>3</td><td>5</td><td>6</td><td>6</td><td>7</td><td>1</td><td>1</td><td>2</td><td>2</td><td>0</td></tr><tr><td>&quot;2014&quot;</td><td>&quot;......0005 Hedingen&quot;</td><td>3111</td><td>24</td><td>32</td><td>30</td><td>29</td><td>27</td><td>27</td><td>30</td><td>26</td><td>45</td><td>41</td><td>51</td><td>34</td><td>35</td><td>44</td><td>34</td><td>44</td><td>44</td><td>30</td><td>44</td><td>32</td><td>56</td><td>50</td><td>42</td><td>43</td><td>38</td><td>30</td><td>32</td><td>27</td><td>34</td><td>25</td><td>23</td><td>28</td><td>31</td><td>23</td><td>&hellip;</td><td>42</td><td>41</td><td>49</td><td>30</td><td>43</td><td>47</td><td>31</td><td>32</td><td>49</td><td>45</td><td>30</td><td>25</td><td>26</td><td>25</td><td>23</td><td>26</td><td>20</td><td>10</td><td>16</td><td>10</td><td>18</td><td>14</td><td>10</td><td>13</td><td>18</td><td>7</td><td>6</td><td>9</td><td>5</td><td>1</td><td>3</td><td>2</td><td>1</td><td>1</td><td>2</td><td>1</td><td>3</td></tr><tr><td>&quot;2014&quot;</td><td>&quot;......0006 Kappel am Albis&quot;</td><td>877</td><td>7</td><td>12</td><td>10</td><td>12</td><td>14</td><td>11</td><td>16</td><td>11</td><td>17</td><td>7</td><td>11</td><td>11</td><td>10</td><td>11</td><td>6</td><td>7</td><td>11</td><td>11</td><td>12</td><td>15</td><td>2</td><td>9</td><td>4</td><td>10</td><td>11</td><td>11</td><td>6</td><td>8</td><td>5</td><td>4</td><td>12</td><td>4</td><td>12</td><td>3</td><td>&hellip;</td><td>17</td><td>7</td><td>14</td><td>11</td><td>9</td><td>7</td><td>13</td><td>13</td><td>11</td><td>8</td><td>8</td><td>9</td><td>4</td><td>10</td><td>7</td><td>7</td><td>6</td><td>4</td><td>4</td><td>4</td><td>3</td><td>2</td><td>1</td><td>5</td><td>2</td><td>7</td><td>0</td><td>1</td><td>2</td><td>4</td><td>1</td><td>1</td><td>1</td><td>0</td><td>0</td><td>1</td><td>1</td></tr><tr><td>&quot;2014&quot;</td><td>&quot;......0007 Knonau&quot;</td><td>1706</td><td>14</td><td>21</td><td>21</td><td>15</td><td>32</td><td>17</td><td>28</td><td>23</td><td>29</td><td>20</td><td>20</td><td>13</td><td>15</td><td>22</td><td>16</td><td>19</td><td>22</td><td>16</td><td>24</td><td>18</td><td>30</td><td>14</td><td>33</td><td>19</td><td>18</td><td>16</td><td>9</td><td>14</td><td>11</td><td>10</td><td>12</td><td>16</td><td>10</td><td>17</td><td>&hellip;</td><td>18</td><td>18</td><td>23</td><td>21</td><td>20</td><td>18</td><td>19</td><td>29</td><td>18</td><td>21</td><td>18</td><td>15</td><td>20</td><td>18</td><td>12</td><td>13</td><td>12</td><td>10</td><td>8</td><td>10</td><td>8</td><td>5</td><td>11</td><td>8</td><td>5</td><td>9</td><td>6</td><td>4</td><td>5</td><td>2</td><td>6</td><td>2</td><td>1</td><td>4</td><td>0</td><td>0</td><td>0</td></tr><tr><td>&quot;2014&quot;</td><td>&quot;......0008 Maschwanden&quot;</td><td>572</td><td>5</td><td>10</td><td>7</td><td>10</td><td>7</td><td>3</td><td>8</td><td>5</td><td>9</td><td>5</td><td>2</td><td>3</td><td>3</td><td>8</td><td>6</td><td>9</td><td>9</td><td>9</td><td>10</td><td>6</td><td>11</td><td>7</td><td>11</td><td>5</td><td>4</td><td>8</td><td>2</td><td>4</td><td>9</td><td>3</td><td>3</td><td>5</td><td>5</td><td>6</td><td>&hellip;</td><td>3</td><td>6</td><td>6</td><td>7</td><td>9</td><td>7</td><td>9</td><td>5</td><td>6</td><td>8</td><td>6</td><td>10</td><td>4</td><td>1</td><td>8</td><td>3</td><td>5</td><td>0</td><td>2</td><td>4</td><td>5</td><td>4</td><td>1</td><td>4</td><td>4</td><td>1</td><td>4</td><td>0</td><td>3</td><td>2</td><td>0</td><td>0</td><td>1</td><td>0</td><td>2</td><td>0</td><td>0</td></tr><tr><td>&quot;2014&quot;</td><td>&quot;......0009 Mettmenstetten&quot;</td><td>3843</td><td>38</td><td>32</td><td>43</td><td>34</td><td>42</td><td>38</td><td>36</td><td>42</td><td>50</td><td>41</td><td>51</td><td>34</td><td>40</td><td>43</td><td>51</td><td>44</td><td>46</td><td>52</td><td>48</td><td>54</td><td>47</td><td>45</td><td>50</td><td>42</td><td>42</td><td>35</td><td>49</td><td>37</td><td>39</td><td>38</td><td>41</td><td>41</td><td>49</td><td>35</td><td>&hellip;</td><td>67</td><td>50</td><td>43</td><td>59</td><td>48</td><td>55</td><td>46</td><td>51</td><td>42</td><td>51</td><td>56</td><td>47</td><td>42</td><td>39</td><td>26</td><td>31</td><td>23</td><td>23</td><td>20</td><td>17</td><td>16</td><td>23</td><td>13</td><td>16</td><td>11</td><td>13</td><td>7</td><td>9</td><td>11</td><td>4</td><td>9</td><td>5</td><td>5</td><td>3</td><td>1</td><td>1</td><td>0</td></tr><tr><td>&quot;2014&quot;</td><td>&quot;......0010 Obfelden&quot;</td><td>3994</td><td>36</td><td>38</td><td>44</td><td>45</td><td>43</td><td>59</td><td>48</td><td>36</td><td>55</td><td>52</td><td>52</td><td>41</td><td>52</td><td>52</td><td>46</td><td>39</td><td>51</td><td>45</td><td>59</td><td>49</td><td>46</td><td>46</td><td>43</td><td>50</td><td>44</td><td>39</td><td>37</td><td>30</td><td>45</td><td>38</td><td>42</td><td>32</td><td>43</td><td>42</td><td>&hellip;</td><td>56</td><td>55</td><td>55</td><td>58</td><td>56</td><td>54</td><td>47</td><td>56</td><td>67</td><td>53</td><td>59</td><td>46</td><td>36</td><td>36</td><td>35</td><td>28</td><td>25</td><td>23</td><td>21</td><td>14</td><td>19</td><td>22</td><td>15</td><td>16</td><td>18</td><td>12</td><td>13</td><td>10</td><td>6</td><td>8</td><td>9</td><td>5</td><td>0</td><td>4</td><td>1</td><td>3</td><td>0</td></tr></tbody></table></div>"
      ],
      "text/plain": [
       "shape: (10, 99)\n",
       "┌───────┬─────────────────────────────┬─────────────┬──────┬───┬────────┬────────┬────────┬────────┐\n",
       "│ annee ┆ commune                     ┆ Âge - total ┆ 0 an ┆ … ┆ 92 ans ┆ 93 ans ┆ 94 ans ┆ 95 ans │\n",
       "│ ---   ┆ ---                         ┆ ---         ┆ ---  ┆   ┆ ---    ┆ ---    ┆ ---    ┆ ---    │\n",
       "│ str   ┆ str                         ┆ i64         ┆ i64  ┆   ┆ i64    ┆ i64    ┆ i64    ┆ i64    │\n",
       "╞═══════╪═════════════════════════════╪═════════════╪══════╪═══╪════════╪════════╪════════╪════════╡\n",
       "│ 2014  ┆ ......0001 Aeugst am Albis  ┆ 1699        ┆ 20   ┆ … ┆ 1      ┆ 0      ┆ 0      ┆ 0      │\n",
       "│ 2014  ┆ ......0002 Affoltern am     ┆ 8463        ┆ 83   ┆ … ┆ 11     ┆ 4      ┆ 5      ┆ 4      │\n",
       "│       ┆ Albis                       ┆             ┆      ┆   ┆        ┆        ┆        ┆        │\n",
       "│ 2014  ┆ ......0003 Bonstetten       ┆ 4541        ┆ 62   ┆ … ┆ 3      ┆ 1      ┆ 0      ┆ 1      │\n",
       "│ 2014  ┆ ......0004 Hausen am Albis  ┆ 2994        ┆ 25   ┆ … ┆ 1      ┆ 2      ┆ 2      ┆ 0      │\n",
       "│ 2014  ┆ ......0005 Hedingen         ┆ 3111        ┆ 24   ┆ … ┆ 1      ┆ 2      ┆ 1      ┆ 3      │\n",
       "│ 2014  ┆ ......0006 Kappel am Albis  ┆ 877         ┆ 7    ┆ … ┆ 0      ┆ 0      ┆ 1      ┆ 1      │\n",
       "│ 2014  ┆ ......0007 Knonau           ┆ 1706        ┆ 14   ┆ … ┆ 4      ┆ 0      ┆ 0      ┆ 0      │\n",
       "│ 2014  ┆ ......0008 Maschwanden      ┆ 572         ┆ 5    ┆ … ┆ 0      ┆ 2      ┆ 0      ┆ 0      │\n",
       "│ 2014  ┆ ......0009 Mettmenstetten   ┆ 3843        ┆ 38   ┆ … ┆ 3      ┆ 1      ┆ 1      ┆ 0      │\n",
       "│ 2014  ┆ ......0010 Obfelden         ┆ 3994        ┆ 36   ┆ … ┆ 4      ┆ 1      ┆ 3      ┆ 0      │\n",
       "└───────┴─────────────────────────────┴─────────────┴──────┴───┴────────┴────────┴────────┴────────┘"
      ]
     },
     "execution_count": 67,
     "metadata": {},
     "output_type": "execute_result"
    }
   ],
   "source": [
    "# read file\n",
    "fichier_path = \"suisse_permanent.xlsx\"\n",
    "\n",
    "df = lire_fichier_ofs_complet(\n",
    "    fichier_path,\n",
    "    sheet_name=\"px-x-0102010000_101\"\n",
    ")\n",
    "\n",
    "print(f\"Dimensions : {df.shape}\")\n",
    "print(f\"Colonnes : {df.columns}\")\n",
    "print(f\"Années disponibles : {sorted(df['annee'].unique())}\")\n",
    "df.head(10)"
   ]
  },
  {
   "cell_type": "code",
   "execution_count": null,
   "id": "c3af314d",
   "metadata": {},
   "outputs": [
    {
     "name": "stdout",
     "output_type": "stream",
     "text": [
      "✓ Données nettoyées : 23441 lignes\n",
      "✓ Nombre de communes uniques : 2131\n"
     ]
    },
    {
     "data": {
      "text/html": [
       "<div><style>\n",
       ".dataframe > thead > tr,\n",
       ".dataframe > tbody > tr {\n",
       "  text-align: right;\n",
       "  white-space: pre-wrap;\n",
       "}\n",
       "</style>\n",
       "<small>shape: (10, 99)</small><table border=\"1\" class=\"dataframe\"><thead><tr><th>annee</th><th>commune</th><th>Âge - total</th><th>0 an</th><th>1 an</th><th>2 ans</th><th>3 ans</th><th>4 ans</th><th>5 ans</th><th>6 ans</th><th>7 ans</th><th>8 ans</th><th>9 ans</th><th>10 ans</th><th>11 ans</th><th>12 ans</th><th>13 ans</th><th>14 ans</th><th>15 ans</th><th>16 ans</th><th>17 ans</th><th>18 ans</th><th>19 ans</th><th>20 ans</th><th>21 ans</th><th>22 ans</th><th>23 ans</th><th>24 ans</th><th>25 ans</th><th>26 ans</th><th>27 ans</th><th>28 ans</th><th>29 ans</th><th>30 ans</th><th>31 ans</th><th>32 ans</th><th>33 ans</th><th>&hellip;</th><th>59 ans</th><th>60 ans</th><th>61 ans</th><th>62 ans</th><th>63 ans</th><th>64 ans</th><th>65 ans</th><th>66 ans</th><th>67 ans</th><th>68 ans</th><th>69 ans</th><th>70 ans</th><th>71 ans</th><th>72 ans</th><th>73 ans</th><th>74 ans</th><th>75 ans</th><th>76 ans</th><th>77 ans</th><th>78 ans</th><th>79 ans</th><th>80 ans</th><th>81 ans</th><th>82 ans</th><th>83 ans</th><th>84 ans</th><th>85 ans</th><th>86 ans</th><th>87 ans</th><th>88 ans</th><th>89 ans</th><th>90 ans</th><th>91 ans</th><th>92 ans</th><th>93 ans</th><th>94 ans</th><th>95 ans</th></tr><tr><td>str</td><td>str</td><td>i64</td><td>i64</td><td>i64</td><td>i64</td><td>i64</td><td>i64</td><td>i64</td><td>i64</td><td>i64</td><td>i64</td><td>i64</td><td>i64</td><td>i64</td><td>i64</td><td>i64</td><td>i64</td><td>i64</td><td>i64</td><td>i64</td><td>i64</td><td>i64</td><td>i64</td><td>i64</td><td>i64</td><td>i64</td><td>i64</td><td>i64</td><td>i64</td><td>i64</td><td>i64</td><td>i64</td><td>i64</td><td>i64</td><td>i64</td><td>i64</td><td>&hellip;</td><td>i64</td><td>i64</td><td>i64</td><td>i64</td><td>i64</td><td>i64</td><td>i64</td><td>i64</td><td>i64</td><td>i64</td><td>i64</td><td>i64</td><td>i64</td><td>i64</td><td>i64</td><td>i64</td><td>i64</td><td>i64</td><td>i64</td><td>i64</td><td>i64</td><td>i64</td><td>i64</td><td>i64</td><td>i64</td><td>i64</td><td>i64</td><td>i64</td><td>i64</td><td>i64</td><td>i64</td><td>i64</td><td>i64</td><td>i64</td><td>i64</td><td>i64</td><td>i64</td></tr></thead><tbody><tr><td>&quot;2014&quot;</td><td>&quot;Aeugst am Albis&quot;</td><td>1699</td><td>20</td><td>20</td><td>18</td><td>17</td><td>11</td><td>17</td><td>19</td><td>21</td><td>17</td><td>12</td><td>14</td><td>17</td><td>25</td><td>18</td><td>23</td><td>18</td><td>16</td><td>24</td><td>27</td><td>15</td><td>23</td><td>19</td><td>17</td><td>21</td><td>12</td><td>12</td><td>13</td><td>9</td><td>13</td><td>11</td><td>7</td><td>11</td><td>15</td><td>12</td><td>&hellip;</td><td>26</td><td>18</td><td>20</td><td>34</td><td>25</td><td>27</td><td>27</td><td>13</td><td>25</td><td>16</td><td>18</td><td>17</td><td>22</td><td>19</td><td>23</td><td>13</td><td>6</td><td>12</td><td>3</td><td>8</td><td>11</td><td>9</td><td>7</td><td>13</td><td>4</td><td>6</td><td>4</td><td>5</td><td>5</td><td>4</td><td>7</td><td>2</td><td>1</td><td>1</td><td>0</td><td>0</td><td>0</td></tr><tr><td>&quot;2014&quot;</td><td>&quot;Affoltern am Albis&quot;</td><td>8463</td><td>83</td><td>67</td><td>83</td><td>89</td><td>87</td><td>79</td><td>76</td><td>65</td><td>77</td><td>71</td><td>83</td><td>91</td><td>79</td><td>78</td><td>75</td><td>102</td><td>103</td><td>100</td><td>106</td><td>131</td><td>121</td><td>109</td><td>124</td><td>121</td><td>119</td><td>114</td><td>116</td><td>120</td><td>116</td><td>94</td><td>102</td><td>94</td><td>88</td><td>76</td><td>&hellip;</td><td>113</td><td>112</td><td>115</td><td>123</td><td>106</td><td>107</td><td>102</td><td>100</td><td>106</td><td>96</td><td>99</td><td>94</td><td>92</td><td>86</td><td>85</td><td>73</td><td>73</td><td>71</td><td>51</td><td>69</td><td>55</td><td>50</td><td>50</td><td>45</td><td>48</td><td>48</td><td>32</td><td>26</td><td>28</td><td>25</td><td>24</td><td>17</td><td>11</td><td>11</td><td>4</td><td>5</td><td>4</td></tr><tr><td>&quot;2014&quot;</td><td>&quot;Bonstetten&quot;</td><td>4541</td><td>62</td><td>45</td><td>60</td><td>54</td><td>54</td><td>69</td><td>70</td><td>61</td><td>60</td><td>60</td><td>54</td><td>47</td><td>60</td><td>65</td><td>53</td><td>61</td><td>46</td><td>40</td><td>54</td><td>70</td><td>39</td><td>39</td><td>53</td><td>37</td><td>46</td><td>33</td><td>35</td><td>39</td><td>44</td><td>42</td><td>50</td><td>54</td><td>51</td><td>55</td><td>&hellip;</td><td>63</td><td>46</td><td>62</td><td>47</td><td>66</td><td>60</td><td>52</td><td>57</td><td>54</td><td>50</td><td>48</td><td>45</td><td>49</td><td>36</td><td>31</td><td>36</td><td>34</td><td>22</td><td>19</td><td>26</td><td>20</td><td>20</td><td>13</td><td>7</td><td>7</td><td>19</td><td>5</td><td>14</td><td>5</td><td>10</td><td>6</td><td>4</td><td>2</td><td>3</td><td>1</td><td>0</td><td>1</td></tr><tr><td>&quot;2014&quot;</td><td>&quot;Hausen am Albis&quot;</td><td>2994</td><td>25</td><td>30</td><td>25</td><td>29</td><td>36</td><td>28</td><td>48</td><td>37</td><td>43</td><td>31</td><td>43</td><td>30</td><td>30</td><td>24</td><td>37</td><td>30</td><td>45</td><td>30</td><td>43</td><td>40</td><td>30</td><td>26</td><td>29</td><td>30</td><td>22</td><td>23</td><td>30</td><td>19</td><td>23</td><td>22</td><td>30</td><td>23</td><td>26</td><td>36</td><td>&hellip;</td><td>46</td><td>47</td><td>40</td><td>38</td><td>33</td><td>37</td><td>48</td><td>49</td><td>37</td><td>37</td><td>22</td><td>30</td><td>36</td><td>31</td><td>30</td><td>22</td><td>20</td><td>21</td><td>22</td><td>24</td><td>17</td><td>16</td><td>8</td><td>15</td><td>13</td><td>11</td><td>5</td><td>3</td><td>5</td><td>6</td><td>6</td><td>7</td><td>1</td><td>1</td><td>2</td><td>2</td><td>0</td></tr><tr><td>&quot;2014&quot;</td><td>&quot;Hedingen&quot;</td><td>3111</td><td>24</td><td>32</td><td>30</td><td>29</td><td>27</td><td>27</td><td>30</td><td>26</td><td>45</td><td>41</td><td>51</td><td>34</td><td>35</td><td>44</td><td>34</td><td>44</td><td>44</td><td>30</td><td>44</td><td>32</td><td>56</td><td>50</td><td>42</td><td>43</td><td>38</td><td>30</td><td>32</td><td>27</td><td>34</td><td>25</td><td>23</td><td>28</td><td>31</td><td>23</td><td>&hellip;</td><td>42</td><td>41</td><td>49</td><td>30</td><td>43</td><td>47</td><td>31</td><td>32</td><td>49</td><td>45</td><td>30</td><td>25</td><td>26</td><td>25</td><td>23</td><td>26</td><td>20</td><td>10</td><td>16</td><td>10</td><td>18</td><td>14</td><td>10</td><td>13</td><td>18</td><td>7</td><td>6</td><td>9</td><td>5</td><td>1</td><td>3</td><td>2</td><td>1</td><td>1</td><td>2</td><td>1</td><td>3</td></tr><tr><td>&quot;2014&quot;</td><td>&quot;Kappel am Albis&quot;</td><td>877</td><td>7</td><td>12</td><td>10</td><td>12</td><td>14</td><td>11</td><td>16</td><td>11</td><td>17</td><td>7</td><td>11</td><td>11</td><td>10</td><td>11</td><td>6</td><td>7</td><td>11</td><td>11</td><td>12</td><td>15</td><td>2</td><td>9</td><td>4</td><td>10</td><td>11</td><td>11</td><td>6</td><td>8</td><td>5</td><td>4</td><td>12</td><td>4</td><td>12</td><td>3</td><td>&hellip;</td><td>17</td><td>7</td><td>14</td><td>11</td><td>9</td><td>7</td><td>13</td><td>13</td><td>11</td><td>8</td><td>8</td><td>9</td><td>4</td><td>10</td><td>7</td><td>7</td><td>6</td><td>4</td><td>4</td><td>4</td><td>3</td><td>2</td><td>1</td><td>5</td><td>2</td><td>7</td><td>0</td><td>1</td><td>2</td><td>4</td><td>1</td><td>1</td><td>1</td><td>0</td><td>0</td><td>1</td><td>1</td></tr><tr><td>&quot;2014&quot;</td><td>&quot;Knonau&quot;</td><td>1706</td><td>14</td><td>21</td><td>21</td><td>15</td><td>32</td><td>17</td><td>28</td><td>23</td><td>29</td><td>20</td><td>20</td><td>13</td><td>15</td><td>22</td><td>16</td><td>19</td><td>22</td><td>16</td><td>24</td><td>18</td><td>30</td><td>14</td><td>33</td><td>19</td><td>18</td><td>16</td><td>9</td><td>14</td><td>11</td><td>10</td><td>12</td><td>16</td><td>10</td><td>17</td><td>&hellip;</td><td>18</td><td>18</td><td>23</td><td>21</td><td>20</td><td>18</td><td>19</td><td>29</td><td>18</td><td>21</td><td>18</td><td>15</td><td>20</td><td>18</td><td>12</td><td>13</td><td>12</td><td>10</td><td>8</td><td>10</td><td>8</td><td>5</td><td>11</td><td>8</td><td>5</td><td>9</td><td>6</td><td>4</td><td>5</td><td>2</td><td>6</td><td>2</td><td>1</td><td>4</td><td>0</td><td>0</td><td>0</td></tr><tr><td>&quot;2014&quot;</td><td>&quot;Maschwanden&quot;</td><td>572</td><td>5</td><td>10</td><td>7</td><td>10</td><td>7</td><td>3</td><td>8</td><td>5</td><td>9</td><td>5</td><td>2</td><td>3</td><td>3</td><td>8</td><td>6</td><td>9</td><td>9</td><td>9</td><td>10</td><td>6</td><td>11</td><td>7</td><td>11</td><td>5</td><td>4</td><td>8</td><td>2</td><td>4</td><td>9</td><td>3</td><td>3</td><td>5</td><td>5</td><td>6</td><td>&hellip;</td><td>3</td><td>6</td><td>6</td><td>7</td><td>9</td><td>7</td><td>9</td><td>5</td><td>6</td><td>8</td><td>6</td><td>10</td><td>4</td><td>1</td><td>8</td><td>3</td><td>5</td><td>0</td><td>2</td><td>4</td><td>5</td><td>4</td><td>1</td><td>4</td><td>4</td><td>1</td><td>4</td><td>0</td><td>3</td><td>2</td><td>0</td><td>0</td><td>1</td><td>0</td><td>2</td><td>0</td><td>0</td></tr><tr><td>&quot;2014&quot;</td><td>&quot;Mettmenstetten&quot;</td><td>3843</td><td>38</td><td>32</td><td>43</td><td>34</td><td>42</td><td>38</td><td>36</td><td>42</td><td>50</td><td>41</td><td>51</td><td>34</td><td>40</td><td>43</td><td>51</td><td>44</td><td>46</td><td>52</td><td>48</td><td>54</td><td>47</td><td>45</td><td>50</td><td>42</td><td>42</td><td>35</td><td>49</td><td>37</td><td>39</td><td>38</td><td>41</td><td>41</td><td>49</td><td>35</td><td>&hellip;</td><td>67</td><td>50</td><td>43</td><td>59</td><td>48</td><td>55</td><td>46</td><td>51</td><td>42</td><td>51</td><td>56</td><td>47</td><td>42</td><td>39</td><td>26</td><td>31</td><td>23</td><td>23</td><td>20</td><td>17</td><td>16</td><td>23</td><td>13</td><td>16</td><td>11</td><td>13</td><td>7</td><td>9</td><td>11</td><td>4</td><td>9</td><td>5</td><td>5</td><td>3</td><td>1</td><td>1</td><td>0</td></tr><tr><td>&quot;2014&quot;</td><td>&quot;Obfelden&quot;</td><td>3994</td><td>36</td><td>38</td><td>44</td><td>45</td><td>43</td><td>59</td><td>48</td><td>36</td><td>55</td><td>52</td><td>52</td><td>41</td><td>52</td><td>52</td><td>46</td><td>39</td><td>51</td><td>45</td><td>59</td><td>49</td><td>46</td><td>46</td><td>43</td><td>50</td><td>44</td><td>39</td><td>37</td><td>30</td><td>45</td><td>38</td><td>42</td><td>32</td><td>43</td><td>42</td><td>&hellip;</td><td>56</td><td>55</td><td>55</td><td>58</td><td>56</td><td>54</td><td>47</td><td>56</td><td>67</td><td>53</td><td>59</td><td>46</td><td>36</td><td>36</td><td>35</td><td>28</td><td>25</td><td>23</td><td>21</td><td>14</td><td>19</td><td>22</td><td>15</td><td>16</td><td>18</td><td>12</td><td>13</td><td>10</td><td>6</td><td>8</td><td>9</td><td>5</td><td>0</td><td>4</td><td>1</td><td>3</td><td>0</td></tr></tbody></table></div>"
      ],
      "text/plain": [
       "shape: (10, 99)\n",
       "┌───────┬────────────────────┬─────────────┬──────┬───┬────────┬────────┬────────┬────────┐\n",
       "│ annee ┆ commune            ┆ Âge - total ┆ 0 an ┆ … ┆ 92 ans ┆ 93 ans ┆ 94 ans ┆ 95 ans │\n",
       "│ ---   ┆ ---                ┆ ---         ┆ ---  ┆   ┆ ---    ┆ ---    ┆ ---    ┆ ---    │\n",
       "│ str   ┆ str                ┆ i64         ┆ i64  ┆   ┆ i64    ┆ i64    ┆ i64    ┆ i64    │\n",
       "╞═══════╪════════════════════╪═════════════╪══════╪═══╪════════╪════════╪════════╪════════╡\n",
       "│ 2014  ┆ Aeugst am Albis    ┆ 1699        ┆ 20   ┆ … ┆ 1      ┆ 0      ┆ 0      ┆ 0      │\n",
       "│ 2014  ┆ Affoltern am Albis ┆ 8463        ┆ 83   ┆ … ┆ 11     ┆ 4      ┆ 5      ┆ 4      │\n",
       "│ 2014  ┆ Bonstetten         ┆ 4541        ┆ 62   ┆ … ┆ 3      ┆ 1      ┆ 0      ┆ 1      │\n",
       "│ 2014  ┆ Hausen am Albis    ┆ 2994        ┆ 25   ┆ … ┆ 1      ┆ 2      ┆ 2      ┆ 0      │\n",
       "│ 2014  ┆ Hedingen           ┆ 3111        ┆ 24   ┆ … ┆ 1      ┆ 2      ┆ 1      ┆ 3      │\n",
       "│ 2014  ┆ Kappel am Albis    ┆ 877         ┆ 7    ┆ … ┆ 0      ┆ 0      ┆ 1      ┆ 1      │\n",
       "│ 2014  ┆ Knonau             ┆ 1706        ┆ 14   ┆ … ┆ 4      ┆ 0      ┆ 0      ┆ 0      │\n",
       "│ 2014  ┆ Maschwanden        ┆ 572         ┆ 5    ┆ … ┆ 0      ┆ 2      ┆ 0      ┆ 0      │\n",
       "│ 2014  ┆ Mettmenstetten     ┆ 3843        ┆ 38   ┆ … ┆ 3      ┆ 1      ┆ 1      ┆ 0      │\n",
       "│ 2014  ┆ Obfelden           ┆ 3994        ┆ 36   ┆ … ┆ 4      ┆ 1      ┆ 3      ┆ 0      │\n",
       "└───────┴────────────────────┴─────────────┴──────┴───┴────────┴────────┴────────┴────────┘"
      ]
     },
     "execution_count": 68,
     "metadata": {},
     "output_type": "execute_result"
    }
   ],
   "source": [
    "# Clean name\n",
    "df = df.with_columns(\n",
    "    pl.col(\"commune\").str.replace(r\"^\\.+\\d+ \", \"\").alias(\"commune\")\n",
    ")\n",
    "\n",
    "# Only commune\n",
    "df = df.filter(\n",
    "    ~pl.col(\"commune\").str.starts_with(\"-\") & \n",
    "    ~pl.col(\"commune\").str.starts_with(\">>\") \n",
    ")\n",
    "\n",
    "print(f\"✓ Données nettoyées : {df.shape[0]} lignes\")\n",
    "print(f\"✓ Nombre de communes uniques : {df['commune'].n_unique()}\")\n",
    "df.head(10)"
   ]
  },
  {
   "cell_type": "markdown",
   "id": "7a677a6f",
   "metadata": {},
   "source": [
    "# Separation by age\n",
    "\n",
    "\n",
    "- 0-19 years old\n",
    "\n",
    "Indicator of family presence\n",
    "\n",
    "- 20-34 years old\n",
    "\n",
    "High consumption outside the home\n",
    "\n",
    "Adaptable to new culinary trends\n",
    "\n",
    "Budget for regular outings\n",
    "\n",
    "- 35-49 years old\n",
    "\n",
    "High purchasing power\n",
    "\n",
    "Family outings\n",
    "\n",
    "Seeking quality\n",
    "\n",
    "- 50+\n",
    "\n",
    "Comfortable budget\n",
    "\n",
    "Loyalty to establishments\n",
    "\n",
    "Free time"
   ]
  },
  {
   "cell_type": "code",
   "execution_count": null,
   "id": "c38afe19",
   "metadata": {},
   "outputs": [
    {
     "name": "stdout",
     "output_type": "stream",
     "text": [
      "enfants_0_19: 20 années (0 an à 19 ans)\n",
      "jeunes_actifs_20_34: 15 années (20 ans à 34 ans)\n",
      "actifs_35_49: 15 années (35 ans à 49 ans)\n",
      "seniors_50_plus: 46 années (50 ans à 95 ans)\n"
     ]
    }
   ],
   "source": [
    "# Age segment\n",
    "segments = {\n",
    "    \"enfants_0_19\": [f\"{i} an\" if i <= 1 else f\"{i} ans\" for i in range(0, 20)],\n",
    "    \"jeunes_actifs_20_34\": [f\"{i} ans\" for i in range(20, 35)],\n",
    "    \"actifs_35_49\": [f\"{i} ans\" for i in range(35, 50)],\n",
    "    \"seniors_50_plus\": [f\"{i} ans\" for i in range(50, 96)]\n",
    "}\n",
    "\n",
    "\n",
    "for segment, ages in segments.items():\n",
    "    print(f\"{segment}: {len(ages)} années ({ages[0]} à {ages[-1]})\")"
   ]
  },
  {
   "cell_type": "code",
   "execution_count": null,
   "id": "7a60831a",
   "metadata": {},
   "outputs": [
    {
     "name": "stdout",
     "output_type": "stream",
     "text": [
      "Nouvelles colonnes ajoutées : 103 colonnes\n"
     ]
    },
    {
     "data": {
      "text/html": [
       "<div><style>\n",
       ".dataframe > thead > tr,\n",
       ".dataframe > tbody > tr {\n",
       "  text-align: right;\n",
       "  white-space: pre-wrap;\n",
       "}\n",
       "</style>\n",
       "<small>shape: (5, 103)</small><table border=\"1\" class=\"dataframe\"><thead><tr><th>annee</th><th>commune</th><th>Âge - total</th><th>0 an</th><th>1 an</th><th>2 ans</th><th>3 ans</th><th>4 ans</th><th>5 ans</th><th>6 ans</th><th>7 ans</th><th>8 ans</th><th>9 ans</th><th>10 ans</th><th>11 ans</th><th>12 ans</th><th>13 ans</th><th>14 ans</th><th>15 ans</th><th>16 ans</th><th>17 ans</th><th>18 ans</th><th>19 ans</th><th>20 ans</th><th>21 ans</th><th>22 ans</th><th>23 ans</th><th>24 ans</th><th>25 ans</th><th>26 ans</th><th>27 ans</th><th>28 ans</th><th>29 ans</th><th>30 ans</th><th>31 ans</th><th>32 ans</th><th>33 ans</th><th>&hellip;</th><th>63 ans</th><th>64 ans</th><th>65 ans</th><th>66 ans</th><th>67 ans</th><th>68 ans</th><th>69 ans</th><th>70 ans</th><th>71 ans</th><th>72 ans</th><th>73 ans</th><th>74 ans</th><th>75 ans</th><th>76 ans</th><th>77 ans</th><th>78 ans</th><th>79 ans</th><th>80 ans</th><th>81 ans</th><th>82 ans</th><th>83 ans</th><th>84 ans</th><th>85 ans</th><th>86 ans</th><th>87 ans</th><th>88 ans</th><th>89 ans</th><th>90 ans</th><th>91 ans</th><th>92 ans</th><th>93 ans</th><th>94 ans</th><th>95 ans</th><th>enfants_0_19</th><th>jeunes_actifs_20_34</th><th>actifs_35_49</th><th>seniors_50_plus</th></tr><tr><td>str</td><td>str</td><td>i64</td><td>i64</td><td>i64</td><td>i64</td><td>i64</td><td>i64</td><td>i64</td><td>i64</td><td>i64</td><td>i64</td><td>i64</td><td>i64</td><td>i64</td><td>i64</td><td>i64</td><td>i64</td><td>i64</td><td>i64</td><td>i64</td><td>i64</td><td>i64</td><td>i64</td><td>i64</td><td>i64</td><td>i64</td><td>i64</td><td>i64</td><td>i64</td><td>i64</td><td>i64</td><td>i64</td><td>i64</td><td>i64</td><td>i64</td><td>i64</td><td>&hellip;</td><td>i64</td><td>i64</td><td>i64</td><td>i64</td><td>i64</td><td>i64</td><td>i64</td><td>i64</td><td>i64</td><td>i64</td><td>i64</td><td>i64</td><td>i64</td><td>i64</td><td>i64</td><td>i64</td><td>i64</td><td>i64</td><td>i64</td><td>i64</td><td>i64</td><td>i64</td><td>i64</td><td>i64</td><td>i64</td><td>i64</td><td>i64</td><td>i64</td><td>i64</td><td>i64</td><td>i64</td><td>i64</td><td>i64</td><td>i64</td><td>i64</td><td>i64</td><td>i64</td></tr></thead><tbody><tr><td>&quot;2014&quot;</td><td>&quot;Aeugst am Albis&quot;</td><td>1699</td><td>20</td><td>20</td><td>18</td><td>17</td><td>11</td><td>17</td><td>19</td><td>21</td><td>17</td><td>12</td><td>14</td><td>17</td><td>25</td><td>18</td><td>23</td><td>18</td><td>16</td><td>24</td><td>27</td><td>15</td><td>23</td><td>19</td><td>17</td><td>21</td><td>12</td><td>12</td><td>13</td><td>9</td><td>13</td><td>11</td><td>7</td><td>11</td><td>15</td><td>12</td><td>&hellip;</td><td>25</td><td>27</td><td>27</td><td>13</td><td>25</td><td>16</td><td>18</td><td>17</td><td>22</td><td>19</td><td>23</td><td>13</td><td>6</td><td>12</td><td>3</td><td>8</td><td>11</td><td>9</td><td>7</td><td>13</td><td>4</td><td>6</td><td>4</td><td>5</td><td>5</td><td>4</td><td>7</td><td>2</td><td>1</td><td>1</td><td>0</td><td>0</td><td>0</td><td>369</td><td>209</td><td>346</td><td>775</td></tr><tr><td>&quot;2014&quot;</td><td>&quot;Affoltern am Albis&quot;</td><td>8463</td><td>83</td><td>67</td><td>83</td><td>89</td><td>87</td><td>79</td><td>76</td><td>65</td><td>77</td><td>71</td><td>83</td><td>91</td><td>79</td><td>78</td><td>75</td><td>102</td><td>103</td><td>100</td><td>106</td><td>131</td><td>121</td><td>109</td><td>124</td><td>121</td><td>119</td><td>114</td><td>116</td><td>120</td><td>116</td><td>94</td><td>102</td><td>94</td><td>88</td><td>76</td><td>&hellip;</td><td>106</td><td>107</td><td>102</td><td>100</td><td>106</td><td>96</td><td>99</td><td>94</td><td>92</td><td>86</td><td>85</td><td>73</td><td>73</td><td>71</td><td>51</td><td>69</td><td>55</td><td>50</td><td>50</td><td>45</td><td>48</td><td>48</td><td>32</td><td>26</td><td>28</td><td>25</td><td>24</td><td>17</td><td>11</td><td>11</td><td>4</td><td>5</td><td>4</td><td>1725</td><td>1598</td><td>1613</td><td>3521</td></tr><tr><td>&quot;2014&quot;</td><td>&quot;Bonstetten&quot;</td><td>4541</td><td>62</td><td>45</td><td>60</td><td>54</td><td>54</td><td>69</td><td>70</td><td>61</td><td>60</td><td>60</td><td>54</td><td>47</td><td>60</td><td>65</td><td>53</td><td>61</td><td>46</td><td>40</td><td>54</td><td>70</td><td>39</td><td>39</td><td>53</td><td>37</td><td>46</td><td>33</td><td>35</td><td>39</td><td>44</td><td>42</td><td>50</td><td>54</td><td>51</td><td>55</td><td>&hellip;</td><td>66</td><td>60</td><td>52</td><td>57</td><td>54</td><td>50</td><td>48</td><td>45</td><td>49</td><td>36</td><td>31</td><td>36</td><td>34</td><td>22</td><td>19</td><td>26</td><td>20</td><td>20</td><td>13</td><td>7</td><td>7</td><td>19</td><td>5</td><td>14</td><td>5</td><td>10</td><td>6</td><td>4</td><td>2</td><td>3</td><td>1</td><td>0</td><td>1</td><td>1145</td><td>670</td><td>1047</td><td>1676</td></tr><tr><td>&quot;2014&quot;</td><td>&quot;Hausen am Albis&quot;</td><td>2994</td><td>25</td><td>30</td><td>25</td><td>29</td><td>36</td><td>28</td><td>48</td><td>37</td><td>43</td><td>31</td><td>43</td><td>30</td><td>30</td><td>24</td><td>37</td><td>30</td><td>45</td><td>30</td><td>43</td><td>40</td><td>30</td><td>26</td><td>29</td><td>30</td><td>22</td><td>23</td><td>30</td><td>19</td><td>23</td><td>22</td><td>30</td><td>23</td><td>26</td><td>36</td><td>&hellip;</td><td>33</td><td>37</td><td>48</td><td>49</td><td>37</td><td>37</td><td>22</td><td>30</td><td>36</td><td>31</td><td>30</td><td>22</td><td>20</td><td>21</td><td>22</td><td>24</td><td>17</td><td>16</td><td>8</td><td>15</td><td>13</td><td>11</td><td>5</td><td>3</td><td>5</td><td>6</td><td>6</td><td>7</td><td>1</td><td>1</td><td>2</td><td>2</td><td>0</td><td>684</td><td>396</td><td>674</td><td>1239</td></tr><tr><td>&quot;2014&quot;</td><td>&quot;Hedingen&quot;</td><td>3111</td><td>24</td><td>32</td><td>30</td><td>29</td><td>27</td><td>27</td><td>30</td><td>26</td><td>45</td><td>41</td><td>51</td><td>34</td><td>35</td><td>44</td><td>34</td><td>44</td><td>44</td><td>30</td><td>44</td><td>32</td><td>56</td><td>50</td><td>42</td><td>43</td><td>38</td><td>30</td><td>32</td><td>27</td><td>34</td><td>25</td><td>23</td><td>28</td><td>31</td><td>23</td><td>&hellip;</td><td>43</td><td>47</td><td>31</td><td>32</td><td>49</td><td>45</td><td>30</td><td>25</td><td>26</td><td>25</td><td>23</td><td>26</td><td>20</td><td>10</td><td>16</td><td>10</td><td>18</td><td>14</td><td>10</td><td>13</td><td>18</td><td>7</td><td>6</td><td>9</td><td>5</td><td>1</td><td>3</td><td>2</td><td>1</td><td>1</td><td>2</td><td>1</td><td>3</td><td>703</td><td>513</td><td>687</td><td>1206</td></tr></tbody></table></div>"
      ],
      "text/plain": [
       "shape: (5, 103)\n",
       "┌───────┬──────────────┬───────┬──────┬───┬──────────────┬─────────────┬─────────────┬─────────────┐\n",
       "│ annee ┆ commune      ┆ Âge - ┆ 0 an ┆ … ┆ enfants_0_19 ┆ jeunes_acti ┆ actifs_35_4 ┆ seniors_50_ │\n",
       "│ ---   ┆ ---          ┆ total ┆ ---  ┆   ┆ ---          ┆ fs_20_34    ┆ 9           ┆ plus        │\n",
       "│ str   ┆ str          ┆ ---   ┆ i64  ┆   ┆ i64          ┆ ---         ┆ ---         ┆ ---         │\n",
       "│       ┆              ┆ i64   ┆      ┆   ┆              ┆ i64         ┆ i64         ┆ i64         │\n",
       "╞═══════╪══════════════╪═══════╪══════╪═══╪══════════════╪═════════════╪═════════════╪═════════════╡\n",
       "│ 2014  ┆ Aeugst am    ┆ 1699  ┆ 20   ┆ … ┆ 369          ┆ 209         ┆ 346         ┆ 775         │\n",
       "│       ┆ Albis        ┆       ┆      ┆   ┆              ┆             ┆             ┆             │\n",
       "│ 2014  ┆ Affoltern am ┆ 8463  ┆ 83   ┆ … ┆ 1725         ┆ 1598        ┆ 1613        ┆ 3521        │\n",
       "│       ┆ Albis        ┆       ┆      ┆   ┆              ┆             ┆             ┆             │\n",
       "│ 2014  ┆ Bonstetten   ┆ 4541  ┆ 62   ┆ … ┆ 1145         ┆ 670         ┆ 1047        ┆ 1676        │\n",
       "│ 2014  ┆ Hausen am    ┆ 2994  ┆ 25   ┆ … ┆ 684          ┆ 396         ┆ 674         ┆ 1239        │\n",
       "│       ┆ Albis        ┆       ┆      ┆   ┆              ┆             ┆             ┆             │\n",
       "│ 2014  ┆ Hedingen     ┆ 3111  ┆ 24   ┆ … ┆ 703          ┆ 513         ┆ 687         ┆ 1206        │\n",
       "└───────┴──────────────┴───────┴──────┴───┴──────────────┴─────────────┴─────────────┴─────────────┘"
      ]
     },
     "execution_count": 70,
     "metadata": {},
     "output_type": "execute_result"
    }
   ],
   "source": [
    "# Create column for each segment\n",
    "df_segments = df.with_columns([\n",
    "    # 0-19 years\n",
    "    pl.sum_horizontal([pl.col(age) for age in segments[\"enfants_0_19\"] if age in df.columns])\n",
    "      .alias(\"enfants_0_19\"),\n",
    "    \n",
    "    #  20-34 years\n",
    "    pl.sum_horizontal([pl.col(age) for age in segments[\"jeunes_actifs_20_34\"] if age in df.columns])\n",
    "      .alias(\"jeunes_actifs_20_34\"),\n",
    "    \n",
    "    # 35-49 years\n",
    "    pl.sum_horizontal([pl.col(age) for age in segments[\"actifs_35_49\"] if age in df.columns])\n",
    "      .alias(\"actifs_35_49\"),\n",
    "    \n",
    "    # 50+ years\n",
    "    pl.sum_horizontal([pl.col(age) for age in segments[\"seniors_50_plus\"] if age in df.columns])\n",
    "      .alias(\"seniors_50_plus\")\n",
    "])\n",
    "\n",
    "print(f\"Nouvelles colonnes ajoutées : {df_segments.shape[1]} colonnes\")\n",
    "df_segments.head()"
   ]
  },
  {
   "cell_type": "code",
   "execution_count": null,
   "id": "377c844e",
   "metadata": {},
   "outputs": [
    {
     "data": {
      "text/html": [
       "<div><style>\n",
       ".dataframe > thead > tr,\n",
       ".dataframe > tbody > tr {\n",
       "  text-align: right;\n",
       "  white-space: pre-wrap;\n",
       "}\n",
       "</style>\n",
       "<small>shape: (10, 7)</small><table border=\"1\" class=\"dataframe\"><thead><tr><th>annee</th><th>commune</th><th>Âge - total</th><th>enfants_0_19</th><th>jeunes_actifs_20_34</th><th>actifs_35_49</th><th>seniors_50_plus</th></tr><tr><td>str</td><td>str</td><td>i64</td><td>i64</td><td>i64</td><td>i64</td><td>i64</td></tr></thead><tbody><tr><td>&quot;2014&quot;</td><td>&quot;Aeugst am Albis&quot;</td><td>1699</td><td>369</td><td>209</td><td>346</td><td>775</td></tr><tr><td>&quot;2014&quot;</td><td>&quot;Affoltern am Albis&quot;</td><td>8463</td><td>1725</td><td>1598</td><td>1613</td><td>3521</td></tr><tr><td>&quot;2014&quot;</td><td>&quot;Bonstetten&quot;</td><td>4541</td><td>1145</td><td>670</td><td>1047</td><td>1676</td></tr><tr><td>&quot;2014&quot;</td><td>&quot;Hausen am Albis&quot;</td><td>2994</td><td>684</td><td>396</td><td>674</td><td>1239</td></tr><tr><td>&quot;2014&quot;</td><td>&quot;Hedingen&quot;</td><td>3111</td><td>703</td><td>513</td><td>687</td><td>1206</td></tr><tr><td>&quot;2014&quot;</td><td>&quot;Kappel am Albis&quot;</td><td>877</td><td>222</td><td>110</td><td>215</td><td>330</td></tr><tr><td>&quot;2014&quot;</td><td>&quot;Knonau&quot;</td><td>1706</td><td>405</td><td>243</td><td>378</td><td>679</td></tr><tr><td>&quot;2014&quot;</td><td>&quot;Maschwanden&quot;</td><td>572</td><td>134</td><td>91</td><td>138</td><td>209</td></tr><tr><td>&quot;2014&quot;</td><td>&quot;Mettmenstetten&quot;</td><td>3843</td><td>859</td><td>624</td><td>817</td><td>1541</td></tr><tr><td>&quot;2014&quot;</td><td>&quot;Obfelden&quot;</td><td>3994</td><td>942</td><td>621</td><td>914</td><td>1515</td></tr></tbody></table></div>"
      ],
      "text/plain": [
       "shape: (10, 7)\n",
       "┌───────┬───────────────┬─────────────┬──────────────┬───────────────┬──────────────┬──────────────┐\n",
       "│ annee ┆ commune       ┆ Âge - total ┆ enfants_0_19 ┆ jeunes_actifs ┆ actifs_35_49 ┆ seniors_50_p │\n",
       "│ ---   ┆ ---           ┆ ---         ┆ ---          ┆ _20_34        ┆ ---          ┆ lus          │\n",
       "│ str   ┆ str           ┆ i64         ┆ i64          ┆ ---           ┆ i64          ┆ ---          │\n",
       "│       ┆               ┆             ┆              ┆ i64           ┆              ┆ i64          │\n",
       "╞═══════╪═══════════════╪═════════════╪══════════════╪═══════════════╪══════════════╪══════════════╡\n",
       "│ 2014  ┆ Aeugst am     ┆ 1699        ┆ 369          ┆ 209           ┆ 346          ┆ 775          │\n",
       "│       ┆ Albis         ┆             ┆              ┆               ┆              ┆              │\n",
       "│ 2014  ┆ Affoltern am  ┆ 8463        ┆ 1725         ┆ 1598          ┆ 1613         ┆ 3521         │\n",
       "│       ┆ Albis         ┆             ┆              ┆               ┆              ┆              │\n",
       "│ 2014  ┆ Bonstetten    ┆ 4541        ┆ 1145         ┆ 670           ┆ 1047         ┆ 1676         │\n",
       "│ 2014  ┆ Hausen am     ┆ 2994        ┆ 684          ┆ 396           ┆ 674          ┆ 1239         │\n",
       "│       ┆ Albis         ┆             ┆              ┆               ┆              ┆              │\n",
       "│ 2014  ┆ Hedingen      ┆ 3111        ┆ 703          ┆ 513           ┆ 687          ┆ 1206         │\n",
       "│ 2014  ┆ Kappel am     ┆ 877         ┆ 222          ┆ 110           ┆ 215          ┆ 330          │\n",
       "│       ┆ Albis         ┆             ┆              ┆               ┆              ┆              │\n",
       "│ 2014  ┆ Knonau        ┆ 1706        ┆ 405          ┆ 243           ┆ 378          ┆ 679          │\n",
       "│ 2014  ┆ Maschwanden   ┆ 572         ┆ 134          ┆ 91            ┆ 138          ┆ 209          │\n",
       "│ 2014  ┆ Mettmenstette ┆ 3843        ┆ 859          ┆ 624           ┆ 817          ┆ 1541         │\n",
       "│       ┆ n             ┆             ┆              ┆               ┆              ┆              │\n",
       "│ 2014  ┆ Obfelden      ┆ 3994        ┆ 942          ┆ 621           ┆ 914          ┆ 1515         │\n",
       "└───────┴───────────────┴─────────────┴──────────────┴───────────────┴──────────────┴──────────────┘"
      ]
     },
     "execution_count": 71,
     "metadata": {},
     "output_type": "execute_result"
    }
   ],
   "source": [
    "df_analyse = df_segments.select([\n",
    "    \"annee\",\n",
    "    \"commune\",\n",
    "    \"Âge - total\",\n",
    "    \"enfants_0_19\",\n",
    "    \"jeunes_actifs_20_34\",\n",
    "    \"actifs_35_49\",\n",
    "    \"seniors_50_plus\"\n",
    "])\n",
    "\n",
    "df_analyse.head(10)"
   ]
  },
  {
   "cell_type": "markdown",
   "id": "1ec4d28b",
   "metadata": {},
   "source": [
    "# Trend score with multiple linear regression"
   ]
  },
  {
   "cell_type": "code",
   "execution_count": 72,
   "id": "6e6bb3f1",
   "metadata": {},
   "outputs": [],
   "source": [
    "import polars as pl\n",
    "import numpy as np\n",
    "from sklearn.linear_model import LinearRegression\n",
    "from sklearn.preprocessing import StandardScaler"
   ]
  },
  {
   "cell_type": "code",
   "execution_count": null,
   "id": "a517b15e",
   "metadata": {},
   "outputs": [
    {
     "name": "stdout",
     "output_type": "stream",
     "text": [
      "Shape initial : (23441, 7)\n",
      "Années disponibles : ['2014', '2015', '2016', '2017', '2018', '2019', '2020', '2021', '2022', '2023', '2024']\n",
      "Nombre de communes : 2131\n"
     ]
    },
    {
     "data": {
      "text/html": [
       "<div><style>\n",
       ".dataframe > thead > tr,\n",
       ".dataframe > tbody > tr {\n",
       "  text-align: right;\n",
       "  white-space: pre-wrap;\n",
       "}\n",
       "</style>\n",
       "<small>shape: (5, 7)</small><table border=\"1\" class=\"dataframe\"><thead><tr><th>annee</th><th>commune</th><th>Âge - total</th><th>enfants_0_19</th><th>jeunes_actifs_20_34</th><th>actifs_35_49</th><th>seniors_50_plus</th></tr><tr><td>i32</td><td>str</td><td>i64</td><td>i64</td><td>i64</td><td>i64</td><td>i64</td></tr></thead><tbody><tr><td>2014</td><td>&quot;Aeugst am Albis&quot;</td><td>1699</td><td>369</td><td>209</td><td>346</td><td>775</td></tr><tr><td>2014</td><td>&quot;Affoltern am Albis&quot;</td><td>8463</td><td>1725</td><td>1598</td><td>1613</td><td>3521</td></tr><tr><td>2014</td><td>&quot;Bonstetten&quot;</td><td>4541</td><td>1145</td><td>670</td><td>1047</td><td>1676</td></tr><tr><td>2014</td><td>&quot;Hausen am Albis&quot;</td><td>2994</td><td>684</td><td>396</td><td>674</td><td>1239</td></tr><tr><td>2014</td><td>&quot;Hedingen&quot;</td><td>3111</td><td>703</td><td>513</td><td>687</td><td>1206</td></tr></tbody></table></div>"
      ],
      "text/plain": [
       "shape: (5, 7)\n",
       "┌───────┬───────────────┬─────────────┬──────────────┬───────────────┬──────────────┬──────────────┐\n",
       "│ annee ┆ commune       ┆ Âge - total ┆ enfants_0_19 ┆ jeunes_actifs ┆ actifs_35_49 ┆ seniors_50_p │\n",
       "│ ---   ┆ ---           ┆ ---         ┆ ---          ┆ _20_34        ┆ ---          ┆ lus          │\n",
       "│ i32   ┆ str           ┆ i64         ┆ i64          ┆ ---           ┆ i64          ┆ ---          │\n",
       "│       ┆               ┆             ┆              ┆ i64           ┆              ┆ i64          │\n",
       "╞═══════╪═══════════════╪═════════════╪══════════════╪═══════════════╪══════════════╪══════════════╡\n",
       "│ 2014  ┆ Aeugst am     ┆ 1699        ┆ 369          ┆ 209           ┆ 346          ┆ 775          │\n",
       "│       ┆ Albis         ┆             ┆              ┆               ┆              ┆              │\n",
       "│ 2014  ┆ Affoltern am  ┆ 8463        ┆ 1725         ┆ 1598          ┆ 1613         ┆ 3521         │\n",
       "│       ┆ Albis         ┆             ┆              ┆               ┆              ┆              │\n",
       "│ 2014  ┆ Bonstetten    ┆ 4541        ┆ 1145         ┆ 670           ┆ 1047         ┆ 1676         │\n",
       "│ 2014  ┆ Hausen am     ┆ 2994        ┆ 684          ┆ 396           ┆ 674          ┆ 1239         │\n",
       "│       ┆ Albis         ┆             ┆              ┆               ┆              ┆              │\n",
       "│ 2014  ┆ Hedingen      ┆ 3111        ┆ 703          ┆ 513           ┆ 687          ┆ 1206         │\n",
       "└───────┴───────────────┴─────────────┴──────────────┴───────────────┴──────────────┴──────────────┘"
      ]
     },
     "execution_count": 73,
     "metadata": {},
     "output_type": "execute_result"
    }
   ],
   "source": [
    "# Check data\n",
    "print(f\"Shape initial : {df_analyse.shape}\")\n",
    "print(f\"Années disponibles : {sorted(df_analyse['annee'].unique())}\")\n",
    "print(f\"Nombre de communes : {df_analyse['commune'].n_unique()}\")\n",
    "\n",
    "df_analyse = df_analyse.with_columns(\n",
    "    pl.col(\"annee\").cast(pl.Int32)\n",
    ")\n",
    "\n",
    "df_analyse.head()"
   ]
  },
  {
   "cell_type": "code",
   "execution_count": null,
   "id": "823ba95f",
   "metadata": {},
   "outputs": [
    {
     "name": "stdout",
     "output_type": "stream",
     "text": [
      "Test sur Zürich :\n",
      "{'slope_pop_totale': np.float64(2227.8454545454556), 'slope_jeunes_actifs': np.float64(51.0454545454546), 'slope_actifs_35_49': np.float64(577.3636363636367), 'slope_seniors': np.float64(569.0727272727274), 'slope_enfants': np.float64(1019.6272727272733)}\n"
     ]
    }
   ],
   "source": [
    "def calculer_tendances_commune(df_commune):\n",
    "    \"\"\"\n",
    "    Calculates regression slopes for each age segment in a municipality.\n",
    "    \"\"\"\n",
    "\n",
    "    X = df_commune['annee'].to_numpy().reshape(-1, 1)\n",
    "    \n",
    "    tendances = {}\n",
    "    \n",
    "    # total population\n",
    "    y_total = df_commune['Âge - total'].to_numpy()\n",
    "    model_total = LinearRegression()\n",
    "    model_total.fit(X, y_total)\n",
    "    tendances['slope_pop_totale'] = model_total.coef_[0]\n",
    "    \n",
    "    y_jeunes = df_commune['jeunes_actifs_20_34'].to_numpy()\n",
    "    model_jeunes = LinearRegression()\n",
    "    model_jeunes.fit(X, y_jeunes)\n",
    "    tendances['slope_jeunes_actifs'] = model_jeunes.coef_[0]\n",
    "    \n",
    "    y_actifs = df_commune['actifs_35_49'].to_numpy()\n",
    "    model_actifs = LinearRegression()\n",
    "    model_actifs.fit(X, y_actifs)\n",
    "    tendances['slope_actifs_35_49'] = model_actifs.coef_[0]\n",
    "    \n",
    "    y_seniors = df_commune['seniors_50_plus'].to_numpy()\n",
    "    model_seniors = LinearRegression()\n",
    "    model_seniors.fit(X, y_seniors)\n",
    "    tendances['slope_seniors'] = model_seniors.coef_[0]\n",
    "    \n",
    "    y_enfants = df_commune['enfants_0_19'].to_numpy()\n",
    "    model_enfants = LinearRegression()\n",
    "    model_enfants.fit(X, y_enfants)\n",
    "    tendances['slope_enfants'] = model_enfants.coef_[0]\n",
    "    \n",
    "    return tendances\n",
    "\n",
    "test_commune = df_analyse.filter(pl.col(\"commune\") == \"Zürich\")\n",
    "print(\"Test sur Zürich :\")\n",
    "print(calculer_tendances_commune(test_commune))"
   ]
  },
  {
   "cell_type": "code",
   "execution_count": null,
   "id": "ef68cade",
   "metadata": {},
   "outputs": [
    {
     "name": "stdout",
     "output_type": "stream",
     "text": [
      "Calcul des tendances pour 2131 communes...\n"
     ]
    },
    {
     "name": "stdout",
     "output_type": "stream",
     "text": [
      "  Progression : 100/2131\n",
      "  Progression : 200/2131\n",
      "  Progression : 300/2131\n",
      "  Progression : 400/2131\n",
      "  Progression : 500/2131\n",
      "  Progression : 600/2131\n",
      "  Progression : 700/2131\n",
      "  Progression : 800/2131\n",
      "  Progression : 900/2131\n",
      "  Progression : 1000/2131\n",
      "  Progression : 1100/2131\n",
      "  Progression : 1200/2131\n",
      "  Progression : 1300/2131\n",
      "  Progression : 1400/2131\n",
      "  Progression : 1500/2131\n",
      "  Progression : 1600/2131\n",
      "  Progression : 1700/2131\n",
      "  Progression : 1800/2131\n",
      "  Progression : 1900/2131\n",
      "  Progression : 2000/2131\n",
      "  Progression : 2100/2131\n",
      "\n",
      "✓ Tendances calculées pour 2131 communes\n"
     ]
    },
    {
     "data": {
      "text/html": [
       "<div><style>\n",
       ".dataframe > thead > tr,\n",
       ".dataframe > tbody > tr {\n",
       "  text-align: right;\n",
       "  white-space: pre-wrap;\n",
       "}\n",
       "</style>\n",
       "<small>shape: (10, 9)</small><table border=\"1\" class=\"dataframe\"><thead><tr><th>slope_pop_totale</th><th>slope_jeunes_actifs</th><th>slope_actifs_35_49</th><th>slope_seniors</th><th>slope_enfants</th><th>commune</th><th>pop_totale_2024</th><th>jeunes_actifs_2024</th><th>ratio_attractivite_2024</th></tr><tr><td>f64</td><td>f64</td><td>f64</td><td>f64</td><td>f64</td><td>str</td><td>i64</td><td>i64</td><td>f64</td></tr></thead><tbody><tr><td>26.581818</td><td>3.236364</td><td>0.554545</td><td>12.436364</td><td>10.554545</td><td>&quot;Puplinge&quot;</td><td>2008</td><td>333</td><td>34.661355</td></tr><tr><td>0.427273</td><td>0.154545</td><td>-0.136364</td><td>-0.009091</td><td>0.463636</td><td>&quot;Les Enfers&quot;</td><td>143</td><td>21</td><td>33.566434</td></tr><tr><td>4.981818</td><td>2.154545</td><td>-2.7</td><td>2.645455</td><td>2.6</td><td>&quot;Leibstadt&quot;</td><td>953</td><td>135</td><td>30.535152</td></tr><tr><td>2.063636</td><td>0.354545</td><td>-1.045455</td><td>2.745455</td><td>0.009091</td><td>&quot;Auboranges&quot;</td><td>260</td><td>30</td><td>33.076923</td></tr><tr><td>4.636364</td><td>-1.454545</td><td>-7.8</td><td>10.027273</td><td>4.490909</td><td>&quot;Wangen bei Olten&quot;</td><td>3960</td><td>626</td><td>33.308081</td></tr><tr><td>12.254545</td><td>-1.572727</td><td>-4.027273</td><td>20.472727</td><td>-2.054545</td><td>&quot;Fischenthal&quot;</td><td>2205</td><td>334</td><td>33.287982</td></tr><tr><td>7.272727</td><td>-5.945455</td><td>-14.354545</td><td>22.590909</td><td>4.963636</td><td>&quot;Wünnewil-Flamatt&quot;</td><td>4519</td><td>777</td><td>33.45873</td></tr><tr><td>27.163636</td><td>11.145455</td><td>-2.472727</td><td>15.490909</td><td>2.845455</td><td>&quot;Montilliez&quot;</td><td>1621</td><td>295</td><td>38.679827</td></tr><tr><td>-3.427273</td><td>0.454545</td><td>-3.154545</td><td>1.254545</td><td>-1.945455</td><td>&quot;Villeret&quot;</td><td>767</td><td>121</td><td>31.942634</td></tr><tr><td>46.954545</td><td>-0.127273</td><td>8.7</td><td>27.527273</td><td>10.990909</td><td>&quot;Neunkirch&quot;</td><td>2139</td><td>298</td><td>32.445068</td></tr></tbody></table></div>"
      ],
      "text/plain": [
       "shape: (10, 9)\n",
       "┌───────────┬───────────┬───────────┬───────────┬───┬───────────┬───────────┬───────────┬──────────┐\n",
       "│ slope_pop ┆ slope_jeu ┆ slope_act ┆ slope_sen ┆ … ┆ commune   ┆ pop_total ┆ jeunes_ac ┆ ratio_at │\n",
       "│ _totale   ┆ nes_actif ┆ ifs_35_49 ┆ iors      ┆   ┆ ---       ┆ e_2024    ┆ tifs_2024 ┆ tractivi │\n",
       "│ ---       ┆ s         ┆ ---       ┆ ---       ┆   ┆ str       ┆ ---       ┆ ---       ┆ te_2024  │\n",
       "│ f64       ┆ ---       ┆ f64       ┆ f64       ┆   ┆           ┆ i64       ┆ i64       ┆ ---      │\n",
       "│           ┆ f64       ┆           ┆           ┆   ┆           ┆           ┆           ┆ f64      │\n",
       "╞═══════════╪═══════════╪═══════════╪═══════════╪═══╪═══════════╪═══════════╪═══════════╪══════════╡\n",
       "│ 26.581818 ┆ 3.236364  ┆ 0.554545  ┆ 12.436364 ┆ … ┆ Puplinge  ┆ 2008      ┆ 333       ┆ 34.66135 │\n",
       "│           ┆           ┆           ┆           ┆   ┆           ┆           ┆           ┆ 5        │\n",
       "│ 0.427273  ┆ 0.154545  ┆ -0.136364 ┆ -0.009091 ┆ … ┆ Les       ┆ 143       ┆ 21        ┆ 33.56643 │\n",
       "│           ┆           ┆           ┆           ┆   ┆ Enfers    ┆           ┆           ┆ 4        │\n",
       "│ 4.981818  ┆ 2.154545  ┆ -2.7      ┆ 2.645455  ┆ … ┆ Leibstadt ┆ 953       ┆ 135       ┆ 30.53515 │\n",
       "│           ┆           ┆           ┆           ┆   ┆           ┆           ┆           ┆ 2        │\n",
       "│ 2.063636  ┆ 0.354545  ┆ -1.045455 ┆ 2.745455  ┆ … ┆ Auborange ┆ 260       ┆ 30        ┆ 33.07692 │\n",
       "│           ┆           ┆           ┆           ┆   ┆ s         ┆           ┆           ┆ 3        │\n",
       "│ 4.636364  ┆ -1.454545 ┆ -7.8      ┆ 10.027273 ┆ … ┆ Wangen    ┆ 3960      ┆ 626       ┆ 33.30808 │\n",
       "│           ┆           ┆           ┆           ┆   ┆ bei Olten ┆           ┆           ┆ 1        │\n",
       "│ 12.254545 ┆ -1.572727 ┆ -4.027273 ┆ 20.472727 ┆ … ┆ Fischenth ┆ 2205      ┆ 334       ┆ 33.28798 │\n",
       "│           ┆           ┆           ┆           ┆   ┆ al        ┆           ┆           ┆ 2        │\n",
       "│ 7.272727  ┆ -5.945455 ┆ -14.35454 ┆ 22.590909 ┆ … ┆ Wünnewil- ┆ 4519      ┆ 777       ┆ 33.45873 │\n",
       "│           ┆           ┆ 5         ┆           ┆   ┆ Flamatt   ┆           ┆           ┆          │\n",
       "│ 27.163636 ┆ 11.145455 ┆ -2.472727 ┆ 15.490909 ┆ … ┆ Montillie ┆ 1621      ┆ 295       ┆ 38.67982 │\n",
       "│           ┆           ┆           ┆           ┆   ┆ z         ┆           ┆           ┆ 7        │\n",
       "│ -3.427273 ┆ 0.454545  ┆ -3.154545 ┆ 1.254545  ┆ … ┆ Villeret  ┆ 767       ┆ 121       ┆ 31.94263 │\n",
       "│           ┆           ┆           ┆           ┆   ┆           ┆           ┆           ┆ 4        │\n",
       "│ 46.954545 ┆ -0.127273 ┆ 8.7       ┆ 27.527273 ┆ … ┆ Neunkirch ┆ 2139      ┆ 298       ┆ 32.44506 │\n",
       "│           ┆           ┆           ┆           ┆   ┆           ┆           ┆           ┆ 8        │\n",
       "└───────────┴───────────┴───────────┴───────────┴───┴───────────┴───────────┴───────────┴──────────┘"
      ]
     },
     "execution_count": 75,
     "metadata": {},
     "output_type": "execute_result"
    }
   ],
   "source": [
    "resultats_tendances = []\n",
    "\n",
    "# For each commune\n",
    "communes = df_analyse['commune'].unique().to_list()\n",
    "\n",
    "print(f\"Calcul des tendances pour {len(communes)} communes...\")\n",
    "\n",
    "for i, commune in enumerate(communes):\n",
    "    if (i + 1) % 100 == 0:\n",
    "        print(f\"  Progression : {i + 1}/{len(communes)}\")\n",
    "    \n",
    "    df_commune = df_analyse.filter(pl.col(\"commune\") == commune).sort(\"annee\")\n",
    "    \n",
    "    if df_commune.shape[0] < 5:\n",
    "        continue\n",
    "    \n",
    "    tendances = calculer_tendances_commune(df_commune)\n",
    "    \n",
    "    tendances['commune'] = commune\n",
    "    \n",
    "    df_2024 = df_commune.filter(pl.col(\"annee\") == 2024)\n",
    "    if df_2024.shape[0] > 0:\n",
    "        tendances['pop_totale_2024'] = df_2024['Âge - total'][0]\n",
    "        tendances['jeunes_actifs_2024'] = df_2024['jeunes_actifs_20_34'][0]\n",
    "        tendances['ratio_attractivite_2024'] = (\n",
    "            (df_2024['jeunes_actifs_20_34'][0] + df_2024['actifs_35_49'][0]) / \n",
    "            df_2024['Âge - total'][0] * 100\n",
    "        )\n",
    "    \n",
    "    resultats_tendances.append(tendances)\n",
    "\n",
    "df_tendances = pl.DataFrame(resultats_tendances)\n",
    "\n",
    "print(f\"\\n✓ Tendances calculées pour {df_tendances.shape[0]} communes\")\n",
    "df_tendances.head(10)"
   ]
  },
  {
   "cell_type": "code",
   "execution_count": null,
   "id": "9bbcd784",
   "metadata": {},
   "outputs": [
    {
     "name": "stdout",
     "output_type": "stream",
     "text": [
      "✓ Normalisation effectuée\n",
      "Colonnes du DataFrame : ['slope_pop_totale', 'slope_jeunes_actifs', 'slope_actifs_35_49', 'slope_seniors', 'slope_enfants', 'commune', 'pop_totale_2024', 'jeunes_actifs_2024', 'ratio_attractivite_2024', 'slope_jeunes_actifs_norm', 'slope_actifs_35_49_norm', 'slope_pop_totale_norm', 'slope_enfants_norm', 'slope_seniors_norm']\n"
     ]
    },
    {
     "data": {
      "text/html": [
       "<div><style>\n",
       ".dataframe > thead > tr,\n",
       ".dataframe > tbody > tr {\n",
       "  text-align: right;\n",
       "  white-space: pre-wrap;\n",
       "}\n",
       "</style>\n",
       "<small>shape: (5, 14)</small><table border=\"1\" class=\"dataframe\"><thead><tr><th>slope_pop_totale</th><th>slope_jeunes_actifs</th><th>slope_actifs_35_49</th><th>slope_seniors</th><th>slope_enfants</th><th>commune</th><th>pop_totale_2024</th><th>jeunes_actifs_2024</th><th>ratio_attractivite_2024</th><th>slope_jeunes_actifs_norm</th><th>slope_actifs_35_49_norm</th><th>slope_pop_totale_norm</th><th>slope_enfants_norm</th><th>slope_seniors_norm</th></tr><tr><td>f64</td><td>f64</td><td>f64</td><td>f64</td><td>f64</td><td>str</td><td>i64</td><td>i64</td><td>f64</td><td>f64</td><td>f64</td><td>f64</td><td>f64</td><td>f64</td></tr></thead><tbody><tr><td>26.581818</td><td>3.236364</td><td>0.554545</td><td>12.436364</td><td>10.554545</td><td>&quot;Puplinge&quot;</td><td>2008</td><td>333</td><td>34.661355</td><td>0.289189</td><td>0.191936</td><td>0.180725</td><td>0.310285</td><td>-0.137495</td></tr><tr><td>0.427273</td><td>0.154545</td><td>-0.136364</td><td>-0.009091</td><td>0.463636</td><td>&quot;Les Enfers&quot;</td><td>143</td><td>21</td><td>33.566434</td><td>0.031551</td><td>0.153262</td><td>-0.251169</td><td>-0.083571</td><td>-0.630739</td></tr><tr><td>4.981818</td><td>2.154545</td><td>-2.7</td><td>2.645455</td><td>2.6</td><td>&quot;Leibstadt&quot;</td><td>953</td><td>135</td><td>30.535152</td><td>0.19875</td><td>0.009758</td><td>-0.175959</td><td>-0.000187</td><td>-0.525533</td></tr><tr><td>2.063636</td><td>0.354545</td><td>-1.045455</td><td>2.745455</td><td>0.009091</td><td>&quot;Auboranges&quot;</td><td>260</td><td>30</td><td>33.076923</td><td>0.048271</td><td>0.102374</td><td>-0.224148</td><td>-0.101313</td><td>-0.52157</td></tr><tr><td>4.636364</td><td>-1.454545</td><td>-7.8</td><td>10.027273</td><td>4.490909</td><td>&quot;Wangen bei Olten&quot;</td><td>3960</td><td>626</td><td>33.308081</td><td>-0.102968</td><td>-0.275723</td><td>-0.181664</td><td>0.073617</td><td>-0.232973</td></tr></tbody></table></div>"
      ],
      "text/plain": [
       "shape: (5, 14)\n",
       "┌───────────┬───────────┬───────────┬───────────┬───┬───────────┬───────────┬───────────┬──────────┐\n",
       "│ slope_pop ┆ slope_jeu ┆ slope_act ┆ slope_sen ┆ … ┆ slope_act ┆ slope_pop ┆ slope_enf ┆ slope_se │\n",
       "│ _totale   ┆ nes_actif ┆ ifs_35_49 ┆ iors      ┆   ┆ ifs_35_49 ┆ _totale_n ┆ ants_norm ┆ niors_no │\n",
       "│ ---       ┆ s         ┆ ---       ┆ ---       ┆   ┆ _norm     ┆ orm       ┆ ---       ┆ rm       │\n",
       "│ f64       ┆ ---       ┆ f64       ┆ f64       ┆   ┆ ---       ┆ ---       ┆ f64       ┆ ---      │\n",
       "│           ┆ f64       ┆           ┆           ┆   ┆ f64       ┆ f64       ┆           ┆ f64      │\n",
       "╞═══════════╪═══════════╪═══════════╪═══════════╪═══╪═══════════╪═══════════╪═══════════╪══════════╡\n",
       "│ 26.581818 ┆ 3.236364  ┆ 0.554545  ┆ 12.436364 ┆ … ┆ 0.191936  ┆ 0.180725  ┆ 0.310285  ┆ -0.13749 │\n",
       "│           ┆           ┆           ┆           ┆   ┆           ┆           ┆           ┆ 5        │\n",
       "│ 0.427273  ┆ 0.154545  ┆ -0.136364 ┆ -0.009091 ┆ … ┆ 0.153262  ┆ -0.251169 ┆ -0.083571 ┆ -0.63073 │\n",
       "│           ┆           ┆           ┆           ┆   ┆           ┆           ┆           ┆ 9        │\n",
       "│ 4.981818  ┆ 2.154545  ┆ -2.7      ┆ 2.645455  ┆ … ┆ 0.009758  ┆ -0.175959 ┆ -0.000187 ┆ -0.52553 │\n",
       "│           ┆           ┆           ┆           ┆   ┆           ┆           ┆           ┆ 3        │\n",
       "│ 2.063636  ┆ 0.354545  ┆ -1.045455 ┆ 2.745455  ┆ … ┆ 0.102374  ┆ -0.224148 ┆ -0.101313 ┆ -0.52157 │\n",
       "│ 4.636364  ┆ -1.454545 ┆ -7.8      ┆ 10.027273 ┆ … ┆ -0.275723 ┆ -0.181664 ┆ 0.073617  ┆ -0.23297 │\n",
       "│           ┆           ┆           ┆           ┆   ┆           ┆           ┆           ┆ 3        │\n",
       "└───────────┴───────────┴───────────┴───────────┴───┴───────────┴───────────┴───────────┴──────────┘"
      ]
     },
     "execution_count": 76,
     "metadata": {},
     "output_type": "execute_result"
    }
   ],
   "source": [
    "# Weightings based on importance for restaurants\n",
    "\n",
    "POIDS = {\n",
    "    'slope_jeunes_actifs': 0.40,    \n",
    "    'slope_actifs_35_49': 0.30,  \n",
    "    'slope_pop_totale': 0.15, \n",
    "    'slope_enfants': 0.10,  \n",
    "    'slope_seniors': 0.05   \n",
    "}\n",
    "\n",
    "# Columns to be normalized\n",
    "cols_a_normaliser = [\n",
    "    'slope_jeunes_actifs',\n",
    "    'slope_actifs_35_49',\n",
    "    'slope_pop_totale',\n",
    "    'slope_enfants',\n",
    "    'slope_seniors'\n",
    "]\n",
    "\n",
    "cols_norm = [f\"{col}_norm\" for col in cols_a_normaliser]\n",
    "if any(col in df_tendances.columns for col in cols_norm):\n",
    "    df_tendances = df_tendances.drop([col for col in cols_norm if col in df_tendances.columns])\n",
    "\n",
    "scaler = StandardScaler()\n",
    "\n",
    "slopes_array = df_tendances.select(cols_a_normaliser).to_numpy()\n",
    "slopes_normalized = scaler.fit_transform(slopes_array)\n",
    "\n",
    "df_normalized = pl.DataFrame(\n",
    "    slopes_normalized,\n",
    "    schema=cols_norm\n",
    ")\n",
    "\n",
    "df_tendances = pl.concat([df_tendances, df_normalized], how=\"horizontal\")\n",
    "\n",
    "print(\"✓ Normalisation effectuée\")\n",
    "print(f\"Colonnes du DataFrame : {df_tendances.columns}\")\n",
    "df_tendances.head()"
   ]
  },
  {
   "cell_type": "code",
   "execution_count": null,
   "id": "5e3a71a0",
   "metadata": {},
   "outputs": [
    {
     "name": "stdout",
     "output_type": "stream",
     "text": [
      "Distribution des trend scores :\n",
      "shape: (9, 2)\n",
      "┌────────────┬───────────┐\n",
      "│ statistic  ┆ value     │\n",
      "│ ---        ┆ ---       │\n",
      "│ str        ┆ f64       │\n",
      "╞════════════╪═══════════╡\n",
      "│ count      ┆ 2131.0    │\n",
      "│ null_count ┆ 0.0       │\n",
      "│ mean       ┆ 18.565951 │\n",
      "│ std        ┆ 2.809097  │\n",
      "│ min        ┆ 0.0       │\n",
      "│ 25%        ┆ 17.971811 │\n",
      "│ 50%        ┆ 18.411615 │\n",
      "│ 75%        ┆ 18.88745  │\n",
      "│ max        ┆ 100.0     │\n",
      "└────────────┴───────────┘\n"
     ]
    }
   ],
   "source": [
    "df_tendances = df_tendances.with_columns([\n",
    "    (\n",
    "        pl.col(\"slope_jeunes_actifs_norm\") * POIDS['slope_jeunes_actifs'] +\n",
    "        pl.col(\"slope_actifs_35_49_norm\") * POIDS['slope_actifs_35_49'] +\n",
    "        pl.col(\"slope_pop_totale_norm\") * POIDS['slope_pop_totale'] +\n",
    "        pl.col(\"slope_enfants_norm\") * POIDS['slope_enfants'] +\n",
    "        pl.col(\"slope_seniors_norm\") * POIDS['slope_seniors']\n",
    "    ).alias(\"trend_score_raw\")\n",
    "])\n",
    "\n",
    "min_score = df_tendances['trend_score_raw'].min()\n",
    "max_score = df_tendances['trend_score_raw'].max()\n",
    "\n",
    "df_tendances = df_tendances.with_columns([\n",
    "    ((pl.col(\"trend_score_raw\") - min_score) / (max_score - min_score) * 100)\n",
    "    .alias(\"trend_score\")\n",
    "])\n",
    "\n",
    "print(\"Distribution des trend scores :\")\n",
    "print(df_tendances['trend_score'].describe())"
   ]
  },
  {
   "cell_type": "code",
   "execution_count": null,
   "id": "11eb4cdb",
   "metadata": {},
   "outputs": [
    {
     "name": "stdout",
     "output_type": "stream",
     "text": [
      "🏆 Top 30 communes par attractivité restaurant (trend score) :\n",
      "shape: (30, 6)\n",
      "┌───────────┬─────────────┬──────────────────┬─────────────────┬─────────────────┬─────────────────┐\n",
      "│ commune   ┆ trend_score ┆ slope_jeunes_act ┆ slope_actifs_35 ┆ slope_pop_total ┆ pop_totale_2024 │\n",
      "│ ---       ┆ ---         ┆ ifs              ┆ _49             ┆ e               ┆ ---             │\n",
      "│ str       ┆ f64         ┆ ---              ┆ ---             ┆ ---             ┆ i64             │\n",
      "│           ┆             ┆ f64              ┆ f64             ┆ f64             ┆                 │\n",
      "╞═══════════╪═════════════╪══════════════════╪═════════════════╪═════════════════╪═════════════════╡\n",
      "│ Zürich    ┆ 100.0       ┆ 51.045455        ┆ 577.363636      ┆ 2227.845455     ┆ 288176          │\n",
      "│ Lausanne  ┆ 59.490848   ┆ 179.745455       ┆ 161.136364      ┆ 622.854545      ┆ 83040           │\n",
      "│ Lancy     ┆ 44.356696   ┆ 144.609091       ┆ 30.509091       ┆ 400.736364      ┆ 23709           │\n",
      "│ Bern      ┆ 39.399151   ┆ 10.963636        ┆ 183.918182      ┆ 456.636364      ┆ 102326          │\n",
      "│ Dübendorf ┆ 37.315968   ┆ 122.963636       ┆ 4.054545        ┆ 249.6           ┆ 20288           │\n",
      "│ …         ┆ …           ┆ …                ┆ …               ┆ …               ┆ …               │\n",
      "│ Opfikon   ┆ 25.964765   ┆ 3.136364         ┆ 63.054545       ┆ 185.872727      ┆ 11548           │\n",
      "│ Vernier   ┆ 25.698206   ┆ 40.072727        ┆ -3.618182       ┆ 150.363636      ┆ 20597           │\n",
      "│ Kloten    ┆ 25.410154   ┆ 40.909091        ┆ 7.763636        ┆ 99.581818       ┆ 13438           │\n",
      "│ Köniz     ┆ 24.802086   ┆ 28.381818        ┆ 15.290909       ┆ 108.890909      ┆ 34168           │\n",
      "│ Horw      ┆ 24.481788   ┆ 29.890909        ┆ -0.027273       ┆ 144.172727      ┆ 12870           │\n",
      "└───────────┴─────────────┴──────────────────┴─────────────────┴─────────────────┴─────────────────┘\n"
     ]
    }
   ],
   "source": [
    "df_top = df_tendances.select([\n",
    "    \"commune\",\n",
    "    \"trend_score\",\n",
    "    \"slope_jeunes_actifs\",\n",
    "    \"slope_actifs_35_49\",\n",
    "    \"slope_pop_totale\",\n",
    "    \"pop_totale_2024\"\n",
    "]).sort(\"trend_score\", descending=True)\n",
    "\n",
    "print(\"🏆 Top 30 communes par attractivité restaurant (trend score) :\")\n",
    "print(df_top.head(30))"
   ]
  },
  {
   "cell_type": "code",
   "execution_count": null,
   "id": "343b411e",
   "metadata": {},
   "outputs": [
    {
     "name": "stdout",
     "output_type": "stream",
     "text": [
      "Analyse des 20 meilleures communes :\n",
      "shape: (20, 4)\n",
      "┌────────────────────┬─────────────┬─────────────────────┬────────────────────┐\n",
      "│ commune            ┆ trend_score ┆ slope_jeunes_actifs ┆ slope_actifs_35_49 │\n",
      "│ ---                ┆ ---         ┆ ---                 ┆ ---                │\n",
      "│ str                ┆ f64         ┆ f64                 ┆ f64                │\n",
      "╞════════════════════╪═════════════╪═════════════════════╪════════════════════╡\n",
      "│ Zürich             ┆ 100.0       ┆ 51.045455           ┆ 577.363636         │\n",
      "│ Lausanne           ┆ 59.490848   ┆ 179.745455          ┆ 161.136364         │\n",
      "│ Lancy              ┆ 44.356696   ┆ 144.609091          ┆ 30.509091          │\n",
      "│ Bern               ┆ 39.399151   ┆ 10.963636           ┆ 183.918182         │\n",
      "│ Dübendorf          ┆ 37.315968   ┆ 122.963636          ┆ 4.054545           │\n",
      "│ …                  ┆ …           ┆ …                   ┆ …                  │\n",
      "│ Genève             ┆ 28.326409   ┆ 132.727273          ┆ -160.027273        │\n",
      "│ Morges             ┆ 27.95612    ┆ 59.054545           ┆ 8.254545           │\n",
      "│ Lenzburg           ┆ 27.897451   ┆ 43.436364           ┆ 31.109091          │\n",
      "│ Châtel-Saint-Denis ┆ 26.781037   ┆ 44.454545           ┆ 11.845455          │\n",
      "│ Bulle              ┆ 26.760641   ┆ 43.236364           ┆ 2.909091           │\n",
      "└────────────────────┴─────────────┴─────────────────────┴────────────────────┘\n"
     ]
    }
   ],
   "source": [
    "df_analyse_composantes = df_top.head(20).select([\n",
    "    \"commune\",\n",
    "    \"trend_score\",\n",
    "    \"slope_jeunes_actifs\",\n",
    "    \"slope_actifs_35_49\"\n",
    "])\n",
    "\n",
    "print(\"Analyse des 20 meilleures communes :\")\n",
    "print(df_analyse_composantes)"
   ]
  },
  {
   "cell_type": "code",
   "execution_count": null,
   "id": "95d2d275",
   "metadata": {},
   "outputs": [
    {
     "name": "stdout",
     "output_type": "stream",
     "text": [
      "✓ Fichiers exportés :\n",
      "  - localities_trend_scores.csv (format: locality,trend_score)\n",
      "  - localities_trend_scores_detailed.csv (avec toutes les variables)\n",
      "\n",
      "📊 Format de sortie (20 premières lignes) :\n",
      "shape: (20, 2)\n",
      "┌────────────────────┬─────────────┐\n",
      "│ locality           ┆ trend_score │\n",
      "│ ---                ┆ ---         │\n",
      "│ str                ┆ f64         │\n",
      "╞════════════════════╪═════════════╡\n",
      "│ Zürich             ┆ 100.0       │\n",
      "│ Lausanne           ┆ 59.490848   │\n",
      "│ Lancy              ┆ 44.356696   │\n",
      "│ Bern               ┆ 39.399151   │\n",
      "│ Dübendorf          ┆ 37.315968   │\n",
      "│ …                  ┆ …           │\n",
      "│ Genève             ┆ 28.326409   │\n",
      "│ Morges             ┆ 27.95612    │\n",
      "│ Lenzburg           ┆ 27.897451   │\n",
      "│ Châtel-Saint-Denis ┆ 26.781037   │\n",
      "│ Bulle              ┆ 26.760641   │\n",
      "└────────────────────┴─────────────┘\n"
     ]
    }
   ],
   "source": [
    "# Export simple format : locality, trend_score\n",
    "df_export = df_top.select([\n",
    "    pl.col(\"commune\").alias(\"locality\"),\n",
    "    \"trend_score\"\n",
    "])\n",
    "\n",
    "df_export.write_csv(\"localities_trend_scores.csv\")\n",
    "\n",
    "df_tendances_export = df_tendances.select([\n",
    "    pl.col(\"commune\").alias(\"locality\"),\n",
    "    \"trend_score\",\n",
    "    \"slope_jeunes_actifs\",\n",
    "    \"slope_actifs_35_49\",\n",
    "    \"slope_pop_totale\",\n",
    "    \"slope_enfants\",\n",
    "    \"slope_seniors\",\n",
    "    \"pop_totale_2024\",\n",
    "    \"jeunes_actifs_2024\",\n",
    "    \"ratio_attractivite_2024\"\n",
    "])\n",
    "\n",
    "df_tendances_export.write_csv(\"localities_trend_scores_detailed.csv\")\n",
    "\n",
    "print(\"✓ Fichiers exportés :\")\n",
    "print(\"  - localities_trend_scores.csv (format: locality,trend_score)\")\n",
    "print(\"  - localities_trend_scores_detailed.csv (avec toutes les variables)\")\n",
    "\n",
    "print(\"\\n📊 Format de sortie (20 premières lignes) :\")\n",
    "print(df_export.head(20))"
   ]
  }
 ],
 "metadata": {
  "kernelspec": {
   "display_name": "estimeat-backend",
   "language": "python",
   "name": "python3"
  },
  "language_info": {
   "codemirror_mode": {
    "name": "ipython",
    "version": 3
   },
   "file_extension": ".py",
   "mimetype": "text/x-python",
   "name": "python",
   "nbconvert_exporter": "python",
   "pygments_lexer": "ipython3",
   "version": "3.13.7"
  }
 },
 "nbformat": 4,
 "nbformat_minor": 5
}
