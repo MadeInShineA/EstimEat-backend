{
 "cells": [
  {
   "cell_type": "markdown",
   "id": "99864b2e",
   "metadata": {},
   "source": [
    "# New buildings with housing"
   ]
  },
  {
   "cell_type": "code",
   "execution_count": 23,
   "id": "541557d1",
   "metadata": {},
   "outputs": [],
   "source": [
    "import polars as pl\n",
    "import pandas as pd"
   ]
  },
  {
   "cell_type": "code",
   "execution_count": 24,
   "id": "36c60af3",
   "metadata": {},
   "outputs": [],
   "source": [
    "file_path = 'new_building.xlsx'\n",
    "\n",
    "df_pandas = pd.read_excel(file_path)"
   ]
  },
  {
   "cell_type": "code",
   "execution_count": 25,
   "id": "92214b15",
   "metadata": {},
   "outputs": [
    {
     "name": "stdout",
     "output_type": "stream",
     "text": [
      "Années disponibles : [2013, 2014, 2015, 2016, 2017, 2018, 2019, 2020, 2021, 2022, 2023]\n",
      "\n",
      "Nombre total de lignes : 2193\n"
     ]
    }
   ],
   "source": [
    "annees = df_pandas.iloc[1, 3:].astype(int).tolist()\n",
    "print(f\"Années disponibles : {annees}\")\n",
    "\n",
    "df_pandas = df_pandas.iloc[2:].reset_index(drop=True)\n",
    "\n",
    "colonnes = ['code_commune', 'nom_commune', 'type_batiment'] + [str(annee) for annee in annees]\n",
    "df_pandas.columns = colonnes\n",
    "\n",
    "print(f\"\\nNombre total de lignes : {len(df_pandas)}\")"
   ]
  },
  {
   "cell_type": "code",
   "execution_count": 26,
   "id": "5d05974e",
   "metadata": {},
   "outputs": [
    {
     "name": "stdout",
     "output_type": "stream",
     "text": [
      "Nombre de communes : 2161\n",
      "\n",
      "Aperçu des types de bâtiments uniques :\n",
      "['Bâtiments avec logements - Total']\n"
     ]
    }
   ],
   "source": [
    "df_pandas = df_pandas[df_pandas['type_batiment'] == 'Bâtiments avec logements - Total'].copy()\n",
    "\n",
    "print(f\"Nombre de communes : {len(df_pandas)}\")\n",
    "print(f\"\\nAperçu des types de bâtiments uniques :\")\n",
    "print(df_pandas['type_batiment'].unique())"
   ]
  },
  {
   "cell_type": "code",
   "execution_count": 27,
   "id": "9a0135fd",
   "metadata": {},
   "outputs": [
    {
     "name": "stdout",
     "output_type": "stream",
     "text": [
      "Colonnes conservées :\n",
      "['nom_commune', '2013', '2014', '2015', '2016', '2017', '2018', '2019', '2020', '2021', '2022', '2023']\n"
     ]
    }
   ],
   "source": [
    "# keep commune + years\n",
    "colonnes_a_garder = ['nom_commune'] + [str(annee) for annee in annees]\n",
    "df_pandas = df_pandas[colonnes_a_garder]\n",
    "\n",
    "print(\"Colonnes conservées :\")\n",
    "print(df_pandas.columns.tolist())"
   ]
  },
  {
   "cell_type": "code",
   "execution_count": 28,
   "id": "ab7720aa",
   "metadata": {},
   "outputs": [
    {
     "name": "stdout",
     "output_type": "stream",
     "text": [
      "✓ DataFrame Polars créé avec succès!\n",
      "Dimensions: (2136, 12)\n"
     ]
    },
    {
     "data": {
      "text/html": [
       "<div><style>\n",
       ".dataframe > thead > tr,\n",
       ".dataframe > tbody > tr {\n",
       "  text-align: right;\n",
       "  white-space: pre-wrap;\n",
       "}\n",
       "</style>\n",
       "<small>shape: (10, 12)</small><table border=\"1\" class=\"dataframe\"><thead><tr><th>nom_commune</th><th>2013</th><th>2014</th><th>2015</th><th>2016</th><th>2017</th><th>2018</th><th>2019</th><th>2020</th><th>2021</th><th>2022</th><th>2023</th></tr><tr><td>str</td><td>f64</td><td>f64</td><td>f64</td><td>f64</td><td>f64</td><td>f64</td><td>f64</td><td>f64</td><td>f64</td><td>f64</td><td>f64</td></tr></thead><tbody><tr><td>&quot;Aeugst am Albis&quot;</td><td>0.0</td><td>1.0</td><td>0.0</td><td>2.0</td><td>5.0</td><td>11.0</td><td>5.0</td><td>3.0</td><td>1.0</td><td>4.0</td><td>1.0</td></tr><tr><td>&quot;Affoltern am Albis&quot;</td><td>14.0</td><td>9.0</td><td>10.0</td><td>8.0</td><td>11.0</td><td>9.0</td><td>11.0</td><td>9.0</td><td>7.0</td><td>8.0</td><td>8.0</td></tr><tr><td>&quot;Bonstetten&quot;</td><td>6.0</td><td>6.0</td><td>2.0</td><td>5.0</td><td>12.0</td><td>1.0</td><td>5.0</td><td>1.0</td><td>3.0</td><td>2.0</td><td>2.0</td></tr><tr><td>&quot;Hausen am Albis&quot;</td><td>14.0</td><td>3.0</td><td>5.0</td><td>30.0</td><td>12.0</td><td>3.0</td><td>2.0</td><td>3.0</td><td>7.0</td><td>8.0</td><td>2.0</td></tr><tr><td>&quot;Hedingen&quot;</td><td>6.0</td><td>10.0</td><td>4.0</td><td>0.0</td><td>3.0</td><td>1.0</td><td>3.0</td><td>2.0</td><td>2.0</td><td>8.0</td><td>6.0</td></tr><tr><td>&quot;Kappel am Albis&quot;</td><td>3.0</td><td>13.0</td><td>1.0</td><td>14.0</td><td>2.0</td><td>12.0</td><td>2.0</td><td>6.0</td><td>4.0</td><td>3.0</td><td>0.0</td></tr><tr><td>&quot;Knonau&quot;</td><td>2.0</td><td>6.0</td><td>7.0</td><td>42.0</td><td>5.0</td><td>4.0</td><td>0.0</td><td>3.0</td><td>3.0</td><td>3.0</td><td>2.0</td></tr><tr><td>&quot;Maschwanden&quot;</td><td>1.0</td><td>0.0</td><td>0.0</td><td>0.0</td><td>1.0</td><td>0.0</td><td>0.0</td><td>0.0</td><td>0.0</td><td>0.0</td><td>0.0</td></tr><tr><td>&quot;Mettmenstetten&quot;</td><td>4.0</td><td>11.0</td><td>12.0</td><td>52.0</td><td>5.0</td><td>19.0</td><td>5.0</td><td>17.0</td><td>26.0</td><td>6.0</td><td>21.0</td></tr><tr><td>&quot;Obfelden&quot;</td><td>7.0</td><td>9.0</td><td>2.0</td><td>20.0</td><td>29.0</td><td>5.0</td><td>5.0</td><td>0.0</td><td>2.0</td><td>6.0</td><td>1.0</td></tr></tbody></table></div>"
      ],
      "text/plain": [
       "shape: (10, 12)\n",
       "┌────────────────────┬──────┬──────┬──────┬───┬──────┬──────┬──────┬──────┐\n",
       "│ nom_commune        ┆ 2013 ┆ 2014 ┆ 2015 ┆ … ┆ 2020 ┆ 2021 ┆ 2022 ┆ 2023 │\n",
       "│ ---                ┆ ---  ┆ ---  ┆ ---  ┆   ┆ ---  ┆ ---  ┆ ---  ┆ ---  │\n",
       "│ str                ┆ f64  ┆ f64  ┆ f64  ┆   ┆ f64  ┆ f64  ┆ f64  ┆ f64  │\n",
       "╞════════════════════╪══════╪══════╪══════╪═══╪══════╪══════╪══════╪══════╡\n",
       "│ Aeugst am Albis    ┆ 0.0  ┆ 1.0  ┆ 0.0  ┆ … ┆ 3.0  ┆ 1.0  ┆ 4.0  ┆ 1.0  │\n",
       "│ Affoltern am Albis ┆ 14.0 ┆ 9.0  ┆ 10.0 ┆ … ┆ 9.0  ┆ 7.0  ┆ 8.0  ┆ 8.0  │\n",
       "│ Bonstetten         ┆ 6.0  ┆ 6.0  ┆ 2.0  ┆ … ┆ 1.0  ┆ 3.0  ┆ 2.0  ┆ 2.0  │\n",
       "│ Hausen am Albis    ┆ 14.0 ┆ 3.0  ┆ 5.0  ┆ … ┆ 3.0  ┆ 7.0  ┆ 8.0  ┆ 2.0  │\n",
       "│ Hedingen           ┆ 6.0  ┆ 10.0 ┆ 4.0  ┆ … ┆ 2.0  ┆ 2.0  ┆ 8.0  ┆ 6.0  │\n",
       "│ Kappel am Albis    ┆ 3.0  ┆ 13.0 ┆ 1.0  ┆ … ┆ 6.0  ┆ 4.0  ┆ 3.0  ┆ 0.0  │\n",
       "│ Knonau             ┆ 2.0  ┆ 6.0  ┆ 7.0  ┆ … ┆ 3.0  ┆ 3.0  ┆ 3.0  ┆ 2.0  │\n",
       "│ Maschwanden        ┆ 1.0  ┆ 0.0  ┆ 0.0  ┆ … ┆ 0.0  ┆ 0.0  ┆ 0.0  ┆ 0.0  │\n",
       "│ Mettmenstetten     ┆ 4.0  ┆ 11.0 ┆ 12.0 ┆ … ┆ 17.0 ┆ 26.0 ┆ 6.0  ┆ 21.0 │\n",
       "│ Obfelden           ┆ 7.0  ┆ 9.0  ┆ 2.0  ┆ … ┆ 0.0  ┆ 2.0  ┆ 6.0  ┆ 1.0  │\n",
       "└────────────────────┴──────┴──────┴──────┴───┴──────┴──────┴──────┴──────┘"
      ]
     },
     "execution_count": 28,
     "metadata": {},
     "output_type": "execute_result"
    }
   ],
   "source": [
    "# Convert in Polars dataframe\n",
    "df_polars = pl.from_pandas(df_pandas)\n",
    "df_polars = df_polars.with_columns(\n",
    "    pl.col(\"nom_commune\").str.replace(r\"^\\.+\\d+ \", \"\").alias(\"nom_commune\")\n",
    ")\n",
    "# Only commune\n",
    "df_polars = df_polars.filter(\n",
    "    ~pl.col(\"nom_commune\").str.starts_with(\"-\") & \n",
    "    ~pl.col(\"nom_commune\").str.starts_with(\">>\") \n",
    ")\n",
    "\n",
    "print(\"✓ DataFrame Polars créé avec succès!\")\n",
    "print(f\"Dimensions: {df_polars.shape}\")\n",
    "df_polars.head(10)"
   ]
  },
  {
   "cell_type": "markdown",
   "id": "97ac84ce",
   "metadata": {},
   "source": [
    "# trend score"
   ]
  },
  {
   "cell_type": "code",
   "execution_count": 29,
   "id": "24d332ac",
   "metadata": {},
   "outputs": [],
   "source": [
    "import numpy as np\n",
    "from sklearn.preprocessing import MinMaxScaler"
   ]
  },
  {
   "cell_type": "code",
   "execution_count": 30,
   "id": "64fe9c48",
   "metadata": {},
   "outputs": [
    {
     "name": "stdout",
     "output_type": "stream",
     "text": [
      "Dataset : 23496 lignes, 2136 communes\n"
     ]
    },
    {
     "name": "stderr",
     "output_type": "stream",
     "text": [
      "/tmp/ipykernel_22037/2804221204.py:1: DeprecationWarning: `DataFrame.melt` is deprecated; use `DataFrame.unpivot` instead, with `index` instead of `id_vars` and `on` instead of `value_vars`\n",
      "  df_long = df_polars.melt(\n"
     ]
    },
    {
     "data": {
      "text/html": [
       "<div><style>\n",
       ".dataframe > thead > tr,\n",
       ".dataframe > tbody > tr {\n",
       "  text-align: right;\n",
       "  white-space: pre-wrap;\n",
       "}\n",
       "</style>\n",
       "<small>shape: (5, 3)</small><table border=\"1\" class=\"dataframe\"><thead><tr><th>nom_commune</th><th>annee</th><th>nombre_logements</th></tr><tr><td>str</td><td>i32</td><td>f64</td></tr></thead><tbody><tr><td>&quot;Aeugst am Albis&quot;</td><td>2013</td><td>0.0</td></tr><tr><td>&quot;Affoltern am Albis&quot;</td><td>2013</td><td>14.0</td></tr><tr><td>&quot;Bonstetten&quot;</td><td>2013</td><td>6.0</td></tr><tr><td>&quot;Hausen am Albis&quot;</td><td>2013</td><td>14.0</td></tr><tr><td>&quot;Hedingen&quot;</td><td>2013</td><td>6.0</td></tr></tbody></table></div>"
      ],
      "text/plain": [
       "shape: (5, 3)\n",
       "┌────────────────────┬───────┬──────────────────┐\n",
       "│ nom_commune        ┆ annee ┆ nombre_logements │\n",
       "│ ---                ┆ ---   ┆ ---              │\n",
       "│ str                ┆ i32   ┆ f64              │\n",
       "╞════════════════════╪═══════╪══════════════════╡\n",
       "│ Aeugst am Albis    ┆ 2013  ┆ 0.0              │\n",
       "│ Affoltern am Albis ┆ 2013  ┆ 14.0             │\n",
       "│ Bonstetten         ┆ 2013  ┆ 6.0              │\n",
       "│ Hausen am Albis    ┆ 2013  ┆ 14.0             │\n",
       "│ Hedingen           ┆ 2013  ┆ 6.0              │\n",
       "└────────────────────┴───────┴──────────────────┘"
      ]
     },
     "execution_count": 30,
     "metadata": {},
     "output_type": "execute_result"
    }
   ],
   "source": [
    "df_long = df_polars.melt(\n",
    "    id_vars=['nom_commune'],\n",
    "    variable_name='annee',\n",
    "    value_name='nombre_logements'\n",
    ")\n",
    "\n",
    "df_long = df_long.with_columns(\n",
    "    pl.col('annee').cast(pl.Int32)\n",
    ")\n",
    "\n",
    "print(f\"Dataset : {df_long.shape[0]} lignes, {len(df_long['nom_commune'].unique())} communes\")\n",
    "df_long.head()"
   ]
  },
  {
   "cell_type": "code",
   "execution_count": 31,
   "id": "6a33a662",
   "metadata": {},
   "outputs": [
    {
     "name": "stdout",
     "output_type": "stream",
     "text": [
      "\n",
      "Features calculées pour 2136 communes\n"
     ]
    },
    {
     "data": {
      "text/html": [
       "<div><style>\n",
       ".dataframe > thead > tr,\n",
       ".dataframe > tbody > tr {\n",
       "  text-align: right;\n",
       "  white-space: pre-wrap;\n",
       "}\n",
       "</style>\n",
       "<small>shape: (10, 10)</small><table border=\"1\" class=\"dataframe\"><thead><tr><th>nom_commune</th><th>slope</th><th>croissance_totale</th><th>taux_croissance</th><th>acceleration</th><th>total_logements</th><th>avg_logements</th><th>volatilite</th><th>recent_slope</th><th>max_logements</th></tr><tr><td>str</td><td>f64</td><td>f64</td><td>f64</td><td>f64</td><td>f64</td><td>f64</td><td>f64</td><td>f64</td><td>f64</td></tr></thead><tbody><tr><td>&quot;Penthalaz&quot;</td><td>-0.318182</td><td>0.0</td><td>0.0</td><td>-3.333333</td><td>16.0</td><td>1.454545</td><td>1.924183</td><td>-0.3</td><td>6.0</td></tr><tr><td>&quot;Oberhünigen&quot;</td><td>0.009091</td><td>0.0</td><td>0.0</td><td>0.0</td><td>1.0</td><td>0.090909</td><td>0.28748</td><td>-0.2</td><td>1.0</td></tr><tr><td>&quot;Schlieren&quot;</td><td>-0.818182</td><td>-8.0</td><td>-57.142857</td><td>-9.0</td><td>94.0</td><td>8.545455</td><td>5.758214</td><td>-1.4</td><td>20.0</td></tr><tr><td>&quot;Flüelen&quot;</td><td>-0.163636</td><td>-2.0</td><td>-66.666667</td><td>-2.0</td><td>23.0</td><td>2.090909</td><td>1.378705</td><td>-0.2</td><td>5.0</td></tr><tr><td>&quot;Dagmersellen&quot;</td><td>-0.281818</td><td>-2.0</td><td>-15.384615</td><td>-3.0</td><td>146.0</td><td>13.272727</td><td>2.299838</td><td>-0.6</td><td>18.0</td></tr><tr><td>&quot;Büetigen&quot;</td><td>-0.027273</td><td>1.0</td><td>100.0</td><td>-1.0</td><td>36.0</td><td>3.272727</td><td>2.092884</td><td>-0.8</td><td>8.0</td></tr><tr><td>&quot;Laufenburg&quot;</td><td>-0.463636</td><td>-1.0</td><td>-14.285714</td><td>-3.0</td><td>65.0</td><td>5.909091</td><td>3.579094</td><td>-0.1</td><td>11.0</td></tr><tr><td>&quot;Crans-Montana&quot;</td><td>-1.118182</td><td>-7.0</td><td>-21.212121</td><td>-6.333333</td><td>270.0</td><td>24.545455</td><td>6.787202</td><td>1.5</td><td>35.0</td></tr><tr><td>&quot;Les Breuleux&quot;</td><td>-0.227273</td><td>-6.0</td><td>-66.666667</td><td>-2.0</td><td>49.0</td><td>4.454545</td><td>2.104698</td><td>-0.1</td><td>8.0</td></tr><tr><td>&quot;Kaltbrunn&quot;</td><td>-0.927273</td><td>-15.0</td><td>-83.333333</td><td>-8.666667</td><td>122.0</td><td>11.090909</td><td>6.185828</td><td>-4.3</td><td>22.0</td></tr></tbody></table></div>"
      ],
      "text/plain": [
       "shape: (10, 10)\n",
       "┌───────────┬───────────┬───────────┬───────────┬───┬───────────┬───────────┬───────────┬──────────┐\n",
       "│ nom_commu ┆ slope     ┆ croissanc ┆ taux_croi ┆ … ┆ avg_logem ┆ volatilit ┆ recent_sl ┆ max_loge │\n",
       "│ ne        ┆ ---       ┆ e_totale  ┆ ssance    ┆   ┆ ents      ┆ e         ┆ ope       ┆ ments    │\n",
       "│ ---       ┆ f64       ┆ ---       ┆ ---       ┆   ┆ ---       ┆ ---       ┆ ---       ┆ ---      │\n",
       "│ str       ┆           ┆ f64       ┆ f64       ┆   ┆ f64       ┆ f64       ┆ f64       ┆ f64      │\n",
       "╞═══════════╪═══════════╪═══════════╪═══════════╪═══╪═══════════╪═══════════╪═══════════╪══════════╡\n",
       "│ Penthalaz ┆ -0.318182 ┆ 0.0       ┆ 0.0       ┆ … ┆ 1.454545  ┆ 1.924183  ┆ -0.3      ┆ 6.0      │\n",
       "│ Oberhünig ┆ 0.009091  ┆ 0.0       ┆ 0.0       ┆ … ┆ 0.090909  ┆ 0.28748   ┆ -0.2      ┆ 1.0      │\n",
       "│ en        ┆           ┆           ┆           ┆   ┆           ┆           ┆           ┆          │\n",
       "│ Schlieren ┆ -0.818182 ┆ -8.0      ┆ -57.14285 ┆ … ┆ 8.545455  ┆ 5.758214  ┆ -1.4      ┆ 20.0     │\n",
       "│           ┆           ┆           ┆ 7         ┆   ┆           ┆           ┆           ┆          │\n",
       "│ Flüelen   ┆ -0.163636 ┆ -2.0      ┆ -66.66666 ┆ … ┆ 2.090909  ┆ 1.378705  ┆ -0.2      ┆ 5.0      │\n",
       "│           ┆           ┆           ┆ 7         ┆   ┆           ┆           ┆           ┆          │\n",
       "│ Dagmersel ┆ -0.281818 ┆ -2.0      ┆ -15.38461 ┆ … ┆ 13.272727 ┆ 2.299838  ┆ -0.6      ┆ 18.0     │\n",
       "│ len       ┆           ┆           ┆ 5         ┆   ┆           ┆           ┆           ┆          │\n",
       "│ Büetigen  ┆ -0.027273 ┆ 1.0       ┆ 100.0     ┆ … ┆ 3.272727  ┆ 2.092884  ┆ -0.8      ┆ 8.0      │\n",
       "│ Laufenbur ┆ -0.463636 ┆ -1.0      ┆ -14.28571 ┆ … ┆ 5.909091  ┆ 3.579094  ┆ -0.1      ┆ 11.0     │\n",
       "│ g         ┆           ┆           ┆ 4         ┆   ┆           ┆           ┆           ┆          │\n",
       "│ Crans-Mon ┆ -1.118182 ┆ -7.0      ┆ -21.21212 ┆ … ┆ 24.545455 ┆ 6.787202  ┆ 1.5       ┆ 35.0     │\n",
       "│ tana      ┆           ┆           ┆ 1         ┆   ┆           ┆           ┆           ┆          │\n",
       "│ Les       ┆ -0.227273 ┆ -6.0      ┆ -66.66666 ┆ … ┆ 4.454545  ┆ 2.104698  ┆ -0.1      ┆ 8.0      │\n",
       "│ Breuleux  ┆           ┆           ┆ 7         ┆   ┆           ┆           ┆           ┆          │\n",
       "│ Kaltbrunn ┆ -0.927273 ┆ -15.0     ┆ -83.33333 ┆ … ┆ 11.090909 ┆ 6.185828  ┆ -4.3      ┆ 22.0     │\n",
       "│           ┆           ┆           ┆ 3         ┆   ┆           ┆           ┆           ┆          │\n",
       "└───────────┴───────────┴───────────┴───────────┴───┴───────────┴───────────┴───────────┴──────────┘"
      ]
     },
     "execution_count": 31,
     "metadata": {},
     "output_type": "execute_result"
    }
   ],
   "source": [
    "def calculate_trend_features(df_long):\n",
    "    \"\"\"\n",
    "    Calculer les features de tendance pour chaque commune\n",
    "    basé uniquement sur les données de logements 2013-2023\n",
    "    \"\"\"\n",
    "    \n",
    "    features_list = []\n",
    "    \n",
    "    for commune in df_long['nom_commune'].unique():\n",
    "        data = df_long.filter(pl.col('nom_commune') == commune).sort('annee')\n",
    "        \n",
    "        annees = data['annee'].to_numpy()\n",
    "        logements = data['nombre_logements'].to_numpy()\n",
    "        \n",
    "        # 1. Pente de la tendance linéaire (régression)\n",
    "        if len(annees) > 1:\n",
    "            slope = np.polyfit(annees, logements, 1)[0]\n",
    "        else:\n",
    "            slope = 0\n",
    "        \n",
    "        # 2. Croissance totale (2023 vs 2013)\n",
    "        if len(logements) >= 2:\n",
    "            croissance_totale = logements[-1] - logements[0]\n",
    "            taux_croissance = ((logements[-1] - logements[0]) / (logements[0] + 1)) * 100\n",
    "        else:\n",
    "            croissance_totale = 0\n",
    "            taux_croissance = 0\n",
    "        \n",
    "        # 3. Moyenne des 3 dernières années vs 3 premières années\n",
    "        if len(logements) >= 6:\n",
    "            recent_avg = np.mean(logements[-3:])\n",
    "            ancien_avg = np.mean(logements[:3])\n",
    "            acceleration = recent_avg - ancien_avg\n",
    "        else:\n",
    "            acceleration = 0\n",
    "        \n",
    "        # 4. Total cumulé (volume global)\n",
    "        total_logements = np.sum(logements)\n",
    "        \n",
    "        # 5. Moyenne annuelle\n",
    "        avg_logements = np.mean(logements)\n",
    "        \n",
    "        # 6. Volatilité (écart-type)\n",
    "        volatilite = np.std(logements)\n",
    "        \n",
    "        # 7. Tendance récente (pente sur les 5 dernières années)\n",
    "        if len(annees) >= 5:\n",
    "            recent_slope = np.polyfit(annees[-5:], logements[-5:], 1)[0]\n",
    "        else:\n",
    "            recent_slope = slope\n",
    "        \n",
    "        # 8. Maximum atteint\n",
    "        max_logements = np.max(logements)\n",
    "        \n",
    "        features_list.append({\n",
    "            'nom_commune': commune,\n",
    "            'slope': slope,\n",
    "            'croissance_totale': croissance_totale,\n",
    "            'taux_croissance': taux_croissance,\n",
    "            'acceleration': acceleration,\n",
    "            'total_logements': total_logements,\n",
    "            'avg_logements': avg_logements,\n",
    "            'volatilite': volatilite,\n",
    "            'recent_slope': recent_slope,\n",
    "            'max_logements': max_logements\n",
    "        })\n",
    "    \n",
    "    return pl.DataFrame(features_list)\n",
    "\n",
    "# Calculer les features\n",
    "df_features = calculate_trend_features(df_long)\n",
    "print(f\"\\nFeatures calculées pour {df_features.shape[0]} communes\")\n",
    "df_features.head(10)"
   ]
  },
  {
   "cell_type": "code",
   "execution_count": 32,
   "id": "63953457",
   "metadata": {},
   "outputs": [
    {
     "name": "stdout",
     "output_type": "stream",
     "text": [
      "\n",
      "=== MODÈLE 3 : POTENTIEL D'ACCÉLÉRATION ===\n",
      "Ce modèle identifie les communes dont la croissance s'accélère\n",
      "\n",
      "Trend scores calculés pour 2136 communes\n"
     ]
    },
    {
     "data": {
      "text/html": [
       "<div><style>\n",
       ".dataframe > thead > tr,\n",
       ".dataframe > tbody > tr {\n",
       "  text-align: right;\n",
       "  white-space: pre-wrap;\n",
       "}\n",
       "</style>\n",
       "<small>shape: (20, 2)</small><table border=\"1\" class=\"dataframe\"><thead><tr><th>nom_commune</th><th>trend_score</th></tr><tr><td>str</td><td>f64</td></tr></thead><tbody><tr><td>&quot;Zürich&quot;</td><td>69.670583</td></tr><tr><td>&quot;Troinex&quot;</td><td>69.629474</td></tr><tr><td>&quot;Niederweningen&quot;</td><td>66.556983</td></tr><tr><td>&quot;Birrhard&quot;</td><td>64.997286</td></tr><tr><td>&quot;Renens (VD)&quot;</td><td>64.862413</td></tr><tr><td>&hellip;</td><td>&hellip;</td></tr><tr><td>&quot;Alpnach&quot;</td><td>62.381795</td></tr><tr><td>&quot;Bodio&quot;</td><td>62.373273</td></tr><tr><td>&quot;Echallens&quot;</td><td>62.075156</td></tr><tr><td>&quot;Burgdorf&quot;</td><td>62.008791</td></tr><tr><td>&quot;Münchenbuchsee&quot;</td><td>61.935852</td></tr></tbody></table></div>"
      ],
      "text/plain": [
       "shape: (20, 2)\n",
       "┌────────────────┬─────────────┐\n",
       "│ nom_commune    ┆ trend_score │\n",
       "│ ---            ┆ ---         │\n",
       "│ str            ┆ f64         │\n",
       "╞════════════════╪═════════════╡\n",
       "│ Zürich         ┆ 69.670583   │\n",
       "│ Troinex        ┆ 69.629474   │\n",
       "│ Niederweningen ┆ 66.556983   │\n",
       "│ Birrhard       ┆ 64.997286   │\n",
       "│ Renens (VD)    ┆ 64.862413   │\n",
       "│ …              ┆ …           │\n",
       "│ Alpnach        ┆ 62.381795   │\n",
       "│ Bodio          ┆ 62.373273   │\n",
       "│ Echallens      ┆ 62.075156   │\n",
       "│ Burgdorf       ┆ 62.008791   │\n",
       "│ Münchenbuchsee ┆ 61.935852   │\n",
       "└────────────────┴─────────────┘"
      ]
     },
     "execution_count": 32,
     "metadata": {},
     "output_type": "execute_result"
    }
   ],
   "source": [
    "def modele_3_acceleration(df_features):\n",
    "    \"\"\"\n",
    "    Modèle focalisé sur l'accélération de la croissance\n",
    "    Bon pour détecter les \"futures stars\"\n",
    "    \n",
    "    Ce modèle privilégie :\n",
    "    - L'accélération de la croissance (40%)\n",
    "    - Le momentum (différence entre tendance récente et passée) (30%)\n",
    "    - La tendance récente (20%)\n",
    "    - Le taux de croissance global (10%)\n",
    "    \"\"\"\n",
    "    df = df_features.to_pandas()\n",
    "    scaler = MinMaxScaler(feature_range=(0, 100))\n",
    "    \n",
    "    df_scaled = df.copy()\n",
    "    \n",
    "    # Normaliser les features\n",
    "    features_to_scale = ['slope', 'acceleration', 'recent_slope', \n",
    "                         'taux_croissance', 'max_logements']\n",
    "    \n",
    "    for feature in features_to_scale:\n",
    "        df_scaled[f'{feature}_scaled'] = scaler.fit_transform(df[[feature]])\n",
    "    \n",
    "    # Calculer le momentum = différence entre recent_slope et slope général\n",
    "    # Un momentum positif signifie que la croissance s'accélère\n",
    "    df_scaled['momentum'] = df_scaled['recent_slope_scaled'] - df_scaled['slope_scaled']\n",
    "    df_scaled['momentum_scaled'] = scaler.fit_transform(df_scaled[['momentum']])\n",
    "    \n",
    "    # Calculer le trend score avec des poids orientés accélération\n",
    "    df_scaled['trend_score'] = (\n",
    "        0.40 * df_scaled['acceleration_scaled'] +     # Accélération (40%)\n",
    "        0.30 * df_scaled['momentum_scaled'] +         # Momentum (30%)\n",
    "        0.20 * df_scaled['recent_slope_scaled'] +     # Tendance récente (20%)\n",
    "        0.10 * df_scaled['taux_croissance_scaled']    # Taux de croissance (10%)\n",
    "    )\n",
    "    \n",
    "    result = df_scaled[['nom_commune', 'trend_score']].copy()\n",
    "    return pl.from_pandas(result).sort('trend_score', descending=True)\n",
    "\n",
    "# Calculer les scores avec le modèle 3\n",
    "df_trend_scores = modele_3_acceleration(df_features)\n",
    "\n",
    "print(\"\\n=== MODÈLE 3 : POTENTIEL D'ACCÉLÉRATION ===\")\n",
    "print(\"Ce modèle identifie les communes dont la croissance s'accélère\\n\")\n",
    "print(f\"Trend scores calculés pour {df_trend_scores.shape[0]} communes\")\n",
    "df_trend_scores.head(20)"
   ]
  },
  {
   "cell_type": "code",
   "execution_count": 33,
   "id": "af7c4054",
   "metadata": {},
   "outputs": [
    {
     "name": "stdout",
     "output_type": "stream",
     "text": [
      "✅ Fichier 'building_trend.csv' créé avec succès!\n"
     ]
    },
    {
     "data": {
      "text/html": [
       "<div><style>\n",
       ".dataframe > thead > tr,\n",
       ".dataframe > tbody > tr {\n",
       "  text-align: right;\n",
       "  white-space: pre-wrap;\n",
       "}\n",
       "</style>\n",
       "<small>shape: (2_136, 2)</small><table border=\"1\" class=\"dataframe\"><thead><tr><th>nom_commune</th><th>trend_score</th></tr><tr><td>str</td><td>f64</td></tr></thead><tbody><tr><td>&quot;Zürich&quot;</td><td>69.670583</td></tr><tr><td>&quot;Troinex&quot;</td><td>69.629474</td></tr><tr><td>&quot;Niederweningen&quot;</td><td>66.556983</td></tr><tr><td>&quot;Birrhard&quot;</td><td>64.997286</td></tr><tr><td>&quot;Renens (VD)&quot;</td><td>64.862413</td></tr><tr><td>&hellip;</td><td>&hellip;</td></tr><tr><td>&quot;Val de Bagnes&quot;</td><td>38.486714</td></tr><tr><td>&quot;Bellinzona&quot;</td><td>35.045685</td></tr><tr><td>&quot;Bussigny&quot;</td><td>34.725588</td></tr><tr><td>&quot;Veyrier&quot;</td><td>34.338012</td></tr><tr><td>&quot;Winterthur&quot;</td><td>34.303387</td></tr></tbody></table></div>"
      ],
      "text/plain": [
       "shape: (2_136, 2)\n",
       "┌────────────────┬─────────────┐\n",
       "│ nom_commune    ┆ trend_score │\n",
       "│ ---            ┆ ---         │\n",
       "│ str            ┆ f64         │\n",
       "╞════════════════╪═════════════╡\n",
       "│ Zürich         ┆ 69.670583   │\n",
       "│ Troinex        ┆ 69.629474   │\n",
       "│ Niederweningen ┆ 66.556983   │\n",
       "│ Birrhard       ┆ 64.997286   │\n",
       "│ Renens (VD)    ┆ 64.862413   │\n",
       "│ …              ┆ …           │\n",
       "│ Val de Bagnes  ┆ 38.486714   │\n",
       "│ Bellinzona     ┆ 35.045685   │\n",
       "│ Bussigny       ┆ 34.725588   │\n",
       "│ Veyrier        ┆ 34.338012   │\n",
       "│ Winterthur     ┆ 34.303387   │\n",
       "└────────────────┴─────────────┘"
      ]
     },
     "execution_count": 33,
     "metadata": {},
     "output_type": "execute_result"
    }
   ],
   "source": [
    "# Sauvegarder en CSV\n",
    "output_file = 'building_trend.csv'\n",
    "df_trend_scores.write_csv(output_file)\n",
    "print(f\"✅ Fichier '{output_file}' créé avec succès!\")\n",
    "\n",
    "\n",
    "# Afficher le résultat final\n",
    "df_trend_scores"
   ]
  }
 ],
 "metadata": {
  "kernelspec": {
   "display_name": "estimeat-backend",
   "language": "python",
   "name": "python3"
  },
  "language_info": {
   "codemirror_mode": {
    "name": "ipython",
    "version": 3
   },
   "file_extension": ".py",
   "mimetype": "text/x-python",
   "name": "python",
   "nbconvert_exporter": "python",
   "pygments_lexer": "ipython3",
   "version": "3.13.7"
  }
 },
 "nbformat": 4,
 "nbformat_minor": 5
}
